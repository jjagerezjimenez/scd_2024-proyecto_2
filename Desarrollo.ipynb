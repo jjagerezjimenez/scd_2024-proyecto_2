{
 "cells": [
  {
   "cell_type": "code",
   "execution_count": 327,
   "metadata": {},
   "outputs": [],
   "source": [
    "import random\n",
    "import re\n",
    "from collections import defaultdict\n",
    "import math"
   ]
  },
  {
   "cell_type": "code",
   "execution_count": 328,
   "metadata": {},
   "outputs": [],
   "source": [
    "def generar_tabla_frecuencias_condicionales(archivo, N):\n",
    "    \"\"\"\n",
    "    Genera una tabla de frecuencias condicionales de palabras a partir de un archivo de texto.\n",
    "    :param archivo: Nombre del archivo de texto en formato UTF-8.\n",
    "    :param N: Número de palabras condicionantes.\n",
    "    :return: Diccionario con frecuencias condicionales.\n",
    "    \"\"\"\n",
    "    with open(archivo, 'r', encoding='utf-8') as file:\n",
    "        texto = file.read().lower()\n",
    "    \n",
    "    palabras = re.findall(r'\\b\\w+\\b', texto) # quito puntuación y divido en palabras\n",
    "    \n",
    "    # Diccionario para almacenar las frecs condicionales\n",
    "    tabla_frecuencias = defaultdict(lambda: defaultdict(int))       #Nota: Cada vez que se accede a una clave que no existe en este diccionario interno, se inicializa con 0\n",
    "\n",
    "    # Si se accede a una clave que no existe en tabla_frecuencias, se crea automáticamente un nuevo defaultdict(int).\n",
    "    # Si se accede a una clave que no existe en ese defaultdict(int), se crea un entero con valor 0.\n",
    "\n",
    "    #Tabla de frecuencias\n",
    "    for i in range(len(palabras) - N):           # crea secuencias de palabras de longitud N (condiciones) y cunta la frecuencia con la que aparecen otras palabras justo después de esas condiciones.\n",
    "        condicion = tuple(palabras[i:i + N])  # N palabras como condición\n",
    "        siguiente_palabra = palabras[i + N]\n",
    "        tabla_frecuencias[condicion][siguiente_palabra] += 1\n",
    "\n",
    "    return tabla_frecuencias\n"
   ]
  },
  {
   "cell_type": "code",
   "execution_count": 329,
   "metadata": {},
   "outputs": [],
   "source": [
    "def guardar_tabla_frecuencias_en_archivo(tabla_frecuencias, nombre_archivo=\"Tablas_Frecuencias.txt\"):\n",
    "    \"\"\"\n",
    "    Guarda la tabla de frecuencias condicionales en un archivo de texto.\n",
    "    :param tabla_frecuencias: Diccionario con frecuencias condicionales.\n",
    "    :param nombre_archivo: Nombre del archivo donde se guardarán las frecuencias.\n",
    "    \"\"\"\n",
    "    with open(nombre_archivo, 'w', encoding='utf-8') as file:\n",
    "\n",
    "        for condicion, frecuencias in tabla_frecuencias.items():\n",
    "            condicion_str = ' '.join(condicion)                     # Convertir la tupla de palabras en una cadena de texto\n",
    "            file.write(f\"Condición: {condicion_str}\\n\")\n",
    "\n",
    "            for palabra_siguiente, frecuencia in frecuencias.items():\n",
    "                file.write(f\"  {palabra_siguiente}: {frecuencia}\\n\")\n",
    "\n",
    "            file.write(\"\\n\")  # Espacio entre diferentes condiciones\n",
    "\n",
    "    print(f\"Tabla de frecuencias guardada en {nombre_archivo}\")"
   ]
  },
  {
   "cell_type": "code",
   "execution_count": 330,
   "metadata": {},
   "outputs": [],
   "source": [
    "def generar_texto_markov(tabla_frecuencias, longitud_texto, N):\n",
    "    \"\"\"\n",
    "    Genera un texto aleatorio basado en Markov.\n",
    "    :param tabla_frecuencias: tabla de frecuencias condicionales\n",
    "    :param longitud_texto: longitud del texto generado\n",
    "    :param N: número de palabras previas\n",
    "    :return: texto generado\n",
    "    \"\"\"\n",
    "    palabras_previas_estado = random.choice(list(tabla_frecuencias.keys()))     # Ver -  Elegimos aleatoriamente una condición inicial de la tabla de frecuencias y la convertimos en una lista para comenzar el texto generado.\n",
    "    texto_generado = list(palabras_previas_estado)\n",
    "\n",
    "    for _ in range(longitud_texto - N):\n",
    "        if palabras_previas_estado not in tabla_frecuencias:                # Si no hay palabras previas, cambio\n",
    "            palabras_previas_estado = random.choice(list(tabla_frecuencias.keys()))  \n",
    "\n",
    "        siguiente_palabra = random.choices(         # Utilizamos random.choices para seleccionar una palabra siguiente basada en las frecuencias\n",
    "            list(tabla_frecuencias[palabras_previas_estado].keys()), #lista de palabras siguietes y sus frecuencias\n",
    "            list(tabla_frecuencias[palabras_previas_estado].values())\n",
    "        )[0]\n",
    "        \n",
    "        texto_generado.append(siguiente_palabra)            # Ver\n",
    "        palabras_previas_estado = tuple(texto_generado[-N:])  # Actualiza el palabras previas para las próximas palabras\n",
    "    \n",
    "    return ' '.join(texto_generado)\n"
   ]
  },
  {
   "cell_type": "code",
   "execution_count": 331,
   "metadata": {},
   "outputs": [],
   "source": [
    "def guardar_texto_en_archivo(texto, nombre_archivo='Fuente_Markov.txt'):\n",
    "    \"\"\"\n",
    "    Guarda el texto generado en un archivo.\n",
    "    :param texto: el texto generado\n",
    "    :param nombre_archivo: nombre del archivo de texto donde se guardará\n",
    "    \"\"\"\n",
    "    with open(nombre_archivo, 'w', encoding='utf-8') as archivo:\n",
    "        archivo.write(texto)\n",
    "    print(f\"Texto generado guardado en {nombre_archivo}\")"
   ]
  },
  {
   "cell_type": "code",
   "execution_count": 332,
   "metadata": {},
   "outputs": [],
   "source": [
    "archivo_texto = \"La_Divina_Comedia.txt\"\n",
    "N = 3  # cadena de palabras para analizar (condicion)"
   ]
  },
  {
   "cell_type": "code",
   "execution_count": 333,
   "metadata": {},
   "outputs": [
    {
     "name": "stdout",
     "output_type": "stream",
     "text": [
      "Tabla de frecuencias guardada en Tablas_Frecuencias.txt\n"
     ]
    }
   ],
   "source": [
    "# Generar la tabla de frecuencias condicionales\n",
    "\n",
    "tabla_frecuencias = generar_tabla_frecuencias_condicionales(archivo_texto, N)\n",
    "guardar_tabla_frecuencias_en_archivo(tabla_frecuencias)"
   ]
  },
  {
   "cell_type": "code",
   "execution_count": 334,
   "metadata": {},
   "outputs": [],
   "source": [
    "# Generar texto aleatorio basado en Markov\n",
    "\n",
    "longitud_texto = 100\n",
    "texto_generado = generar_texto_markov(tabla_frecuencias, longitud_texto, N)"
   ]
  },
  {
   "cell_type": "code",
   "execution_count": 335,
   "metadata": {},
   "outputs": [
    {
     "name": "stdout",
     "output_type": "stream",
     "text": [
      "Texto generado guardado en Fuente_Markov.txt\n"
     ]
    }
   ],
   "source": [
    "guardar_texto_en_archivo(texto_generado)"
   ]
  },
  {
   "cell_type": "code",
   "execution_count": 336,
   "metadata": {},
   "outputs": [],
   "source": [
    "# Función para convertir texto a binario UTF-8\n",
    "def utf8_a_binary(texto):\n",
    "\n",
    "    # ord(c): Obtiene el valor Unicode del carácter c.\n",
    "    # format(..., '08b'): Convierte el número en una cadena binaria de 8 bits.\n",
    "\n",
    "    return ''.join(format(ord(c), '08b') for c in texto)"
   ]
  },
  {
   "attachments": {
    "image.png": {
     "image/png": "[encoded data removed]"
    }
   },
   "cell_type": "markdown",
   "metadata": {},
   "source": [
    "![image.png](attachment:image.png)"
   ]
  },
  {
   "cell_type": "code",
   "execution_count": 337,
   "metadata": {},
   "outputs": [],
   "source": [
    "# Código unario-binario para codificar la longitud de coincidencias\n",
    "def codigo_unario_binario(n):   # codifica un entero positivo n usando el código unario-binario:\n",
    "    if n == 1:\n",
    "        return '1'\n",
    "    \n",
    "    else:\n",
    "        bin_expansion = format(n, 'b')              # Expansión binaria de n\n",
    "        prefix_len = len(bin_expansion) - 1         # para calcular prefijo unario como len(bin_expansion) - 1 ceros\\                          (log2 n)\n",
    "        prefix_unary = '0' * prefix_len             # Genera 0s como prefijo unario\n",
    "        return prefix_unary + bin_expansion\n"
   ]
  },
  {
   "cell_type": "code",
   "execution_count": 338,
   "metadata": {},
   "outputs": [
    {
     "data": {
      "text/plain": [
       "'0001000'"
      ]
     },
     "execution_count": 338,
     "metadata": {},
     "output_type": "execute_result"
    }
   ],
   "source": [
    "codigo_unario_binario (8)"
   ]
  },
  {
   "cell_type": "code",
   "execution_count": 339,
   "metadata": {},
   "outputs": [],
   "source": [
    "# Decodificar longitud con código unario-binario\n",
    "def decodif_unario_binario(binario, i):                # decodificar un número codificado en unario-binario desde una cadena binaria a partir de la posición i\n",
    "    prefix_length = 0\n",
    "\n",
    "    while binario[i] == '0':        # Contamos el número de ceros consecutivos para determinar prefix_length.\n",
    "        prefix_length += 1\n",
    "        i += 1\n",
    "\n",
    "    # Leer (prefix_length + 1) bits para obtener la expansión binaria\n",
    "    bin_expansion = binario[i:i + prefix_length + 1]\n",
    "    n = int(bin_expansion, 2)   # Convertimos la expansión binaria a un entero n.\n",
    "    i += prefix_length + 1      # Actualizamos i para apuntar después de los bits leídos\n",
    "\n",
    "    return n, i"
   ]
  },
  {
   "attachments": {
    "image.png": {
     "image/png": "[encoded data removed]"
    }
   },
   "cell_type": "markdown",
   "metadata": {},
   "source": [
    "![image.png](attachment:image.png)"
   ]
  },
  {
   "cell_type": "code",
   "execution_count": 340,
   "metadata": {},
   "outputs": [],
   "source": [
    "# algoritmo LZ77 - Compresión\n",
    "def lz77_comprimir(texto, ventana_tamano):\n",
    "    \n",
    "    #u offset\n",
    "    #n longi\n",
    "    #w vent\n",
    "    \n",
    "    resultado_binario = []  # Guarda el resultado comprimido en binario\n",
    "    u_bit_length = math.ceil(math.log2(ventana_tamano + 1))  # Calculamos el número de bits necesarios para representar u (el desplazamiento/offset), considerando ventana_tamano.\n",
    "\n",
    "    # (1) Codificar los primeros w símbolos sin compresión\n",
    "    for i in range(min(ventana_tamano, len(texto))):\n",
    "        literal_bin = utf8_a_binary(texto[i])\n",
    "        resultado_binario.append(literal_bin)  \n",
    "\n",
    "    # (2) A partir de aquí, aplicar la compresión\n",
    "    P = ventana_tamano              # Inicializamos el puntero P y variables para almacenar la mejor coincidencia encontrada.\n",
    "    while P < len(texto):\n",
    "        mejor_longitud = 0\n",
    "        mejor_desplazamiento = 0\n",
    "\n",
    "        # (3) Buscar la mayor coincidencia dentro de la ventana deslizante\n",
    "        ventana_inicio = max(0, P - ventana_tamano)\n",
    "        for j in range(ventana_inicio, P):\n",
    "            longitud = 0\n",
    "            while (P + longitud < len(texto)) and (texto[j + longitud] == texto[P + longitud]):     # Recorremos la ventana y comparamos caracteres para encontrar coincidencias.\n",
    "                longitud += 1\n",
    "                if j + longitud >= P:\n",
    "                    break  # Evitar salir del límite de la ventana\n",
    "            if longitud > mejor_longitud and longitud >= 2:     # Si encontramos una coincidencia mejor, actualizamos mejor_longitud y mejor_desplazamiento.\n",
    "                mejor_longitud = longitud\n",
    "                mejor_desplazamiento = P - j\n",
    "\n",
    "        # (4) Si hay coincidencia n >= 2, codificar (n, u)\n",
    "        if mejor_longitud >= 2:\n",
    "            # Codificar longitud (n) usando código unario-binario\n",
    "            longitud_bin = codigo_unario_binario(mejor_longitud)\n",
    "\n",
    "            # Codificar desplazamiento (u) usando logw bits\n",
    "            desplazamiento_bin = format(mejor_desplazamiento, f'0{u_bit_length}b')\n",
    "            resultado_binario.append(longitud_bin + desplazamiento_bin)\n",
    "\n",
    "            # Avanzar el puntero P\n",
    "            P += mejor_longitud\n",
    "\n",
    "        # Si no hay coincidencia, codificar el literal\n",
    "        else:\n",
    "            literal_bin = utf8_a_binary(texto[P])\n",
    "            resultado_binario.append('1' + literal_bin)  # Usamos '1' como indicador de literal\n",
    "            P += 1\n",
    "\n",
    "    return ''.join(resultado_binario)"
   ]
  },
  {
   "cell_type": "code",
   "execution_count": 341,
   "metadata": {},
   "outputs": [],
   "source": [
    "# algoritmo LZ77 - Descompresión\n",
    "def lz77_descomprimir(binario, ventana_tamano):\n",
    "    i = 0                                           # Inicializo el índice i para recorrer el binario.\n",
    "    resultado = []\n",
    "    u_bit_length = math.ceil(math.log2(ventana_tamano + 1))     # Calculamos u_bit_length de la misma forma que en la compresión.\n",
    "\n",
    "    # (1) Decodificar los primeros w símbolos sin compresión\n",
    "    for _ in range(ventana_tamano):\n",
    "        if i + 8 > len(binario):\n",
    "            break  # Evita exceder el límite\n",
    "\n",
    "        literal_binario = binario[i:i + 8]\n",
    "        literal = chr(int(literal_binario, 2))\n",
    "        resultado.append(literal)\n",
    "        i += 8\n",
    "\n",
    "    # (2) A partir de aquí, decodificar el resto\n",
    "    while i < len(binario):\n",
    "        # Verificamos si es un literal\n",
    "        if binario[i] == '1':\n",
    "            i += 1\n",
    "            literal_binario = binario[i:i + 8]\n",
    "            literal = chr(int(literal_binario, 2))\n",
    "            resultado.append(literal)\n",
    "            i += 8\n",
    "\n",
    "        else:\n",
    "            # Es una coincidencia\n",
    "            n, i = decodif_unario_binario(binario, i)\n",
    "            u = int(binario[i:i + u_bit_length], 2)\n",
    "            i += u_bit_length\n",
    "            # Copiar la coincidencia en el resultado\n",
    "            pos_inicio = len(resultado) - u\n",
    "            \n",
    "            for _ in range(n):\n",
    "                resultado.append(resultado[pos_inicio])\n",
    "                pos_inicio += 1\n",
    "\n",
    "    return ''.join(resultado)"
   ]
  },
  {
   "cell_type": "code",
   "execution_count": 342,
   "metadata": {},
   "outputs": [
    {
     "name": "stdout",
     "output_type": "stream",
     "text": [
      "Binario comprimido: 0110000101100010011000110110010001100001011000100110001101100100000100010000001000100000010001000\n",
      "\n",
      "Texto original: abcdabcdabcdabcdabcdabcdabcdabcd\n",
      "Texto descomprimido: abcdabcdabcdabcdabcdabcdabcdabcd\n"
     ]
    }
   ],
   "source": [
    "# Ejemplo de compresión y descompresión\n",
    "texto_prueba = 'abcdabcdabcdabcdabcdabcdabcdabcd'\n",
    "ventana_tamano = 8\n",
    "\n",
    "# Comprimir el texto\n",
    "binario_comprimido = lz77_comprimir(texto_prueba, ventana_tamano)\n",
    "print(\"Binario comprimido:\", binario_comprimido)\n",
    "\n",
    "# Descomprimir el texto\n",
    "texto_descomprimido = lz77_descomprimir(binario_comprimido, ventana_tamano)\n",
    "print(\"\\nTexto original:\", texto_prueba)\n",
    "print(\"Texto descomprimido:\", texto_descomprimido)\n",
    "\n",
    "assert texto_descomprimido == texto_prueba, \"El texto descomprimido no coincide con el de prueba\""
   ]
  },
  {
   "cell_type": "code",
   "execution_count": 343,
   "metadata": {},
   "outputs": [
    {
     "data": {
      "text/plain": [
       "97"
      ]
     },
     "execution_count": 343,
     "metadata": {},
     "output_type": "execute_result"
    }
   ],
   "source": [
    "len(binario_comprimido)"
   ]
  },
  {
   "cell_type": "code",
   "execution_count": 344,
   "metadata": {},
   "outputs": [
    {
     "data": {
      "text/plain": [
       "256"
      ]
     },
     "execution_count": 344,
     "metadata": {},
     "output_type": "execute_result"
    }
   ],
   "source": [
    "len(texto_prueba)*8"
   ]
  },
  {
   "cell_type": "code",
   "execution_count": 345,
   "metadata": {},
   "outputs": [
    {
     "name": "stdout",
     "output_type": "stream",
     "text": [
      "Binario comprimido: 0110000101100010011001100110000101100010011001000110000101100010101100011101100011011011110110010010110011001101011011000111011000100110110\n",
      "\n",
      "Texto original: abfabdabccabddfabdcbfab\n",
      "Texto descomprimido: abfabdabccabddfabdcbfab\n"
     ]
    }
   ],
   "source": [
    "texto_prueba = 'abfabdabccabddfabdcbfab'\n",
    "ventana_tamano = 8\n",
    "\n",
    "# Comprimir el texto\n",
    "binario_comprimido = lz77_comprimir(texto_prueba, ventana_tamano)\n",
    "print(\"Binario comprimido:\", binario_comprimido)\n",
    "\n",
    "# Descomprimir el texto\n",
    "texto_descomprimido = lz77_descomprimir(binario_comprimido, ventana_tamano)\n",
    "print(\"\\nTexto original:\", texto_prueba)\n",
    "print(\"Texto descomprimido:\", texto_descomprimido)\n",
    "\n",
    "assert texto_descomprimido == texto_prueba, \"El texto descomprimido no coincide con el de prueba\""
   ]
  },
  {
   "cell_type": "code",
   "execution_count": 346,
   "metadata": {},
   "outputs": [
    {
     "data": {
      "text/plain": [
       "139"
      ]
     },
     "execution_count": 346,
     "metadata": {},
     "output_type": "execute_result"
    }
   ],
   "source": [
    "len(binario_comprimido)"
   ]
  },
  {
   "cell_type": "code",
   "execution_count": 347,
   "metadata": {},
   "outputs": [
    {
     "data": {
      "text/plain": [
       "184"
      ]
     },
     "execution_count": 347,
     "metadata": {},
     "output_type": "execute_result"
    }
   ],
   "source": [
    "len(texto_prueba)*8"
   ]
  },
  {
   "cell_type": "code",
   "execution_count": 348,
   "metadata": {},
   "outputs": [
    {
     "name": "stdout",
     "output_type": "stream",
     "text": [
      "Binario comprimido: 001100010011001000110011001101000011010100110110001101110011100001100110011001100011001100011001100011001100011001100011001100011001100011001100011001100011001100011001100011001100011001100011001100011001100011001100011001100011001100011001100011001100011001100011001100011001100011001100011001100011001100011001100011001100011001100011001100011001100011001100011001100011001100011001100011001100011001100011001100011001100011001100011001100011001100011001100011001100011001100011001100011001100011001100011001100011001100011001100011001100011001100011001100011001100011001100011001100011001100011001100011001100011001100011001100011001100011001100011001100011001100011001100011001100011001100011001100011001100011001100011001100011001100011001100011001100011001100011001100011001100011001100011001100011001100011001100011001100011001100011001100011001100011001100011001100011001100011001100011001100011001100011001100011001100011001100011001100011001100011001100011001100011001100011001100011001100011001100011001100011001100011001100011001100011001100011001100011001100011001100011001100011001100011001100011001100011001100011001100011001100011001100011001100011001100011001100011001100011001100011001100011001100011001100011001100011001100011001100011001100011001100011001100011001100011001100011001100011001100011001100011001100011001100011001100011001100011001100011001100011001100011001100011001100011001100011001100011001100011001100011001100011001100011001100011001100011001100011001100011001100011001100011001100011001100011001100011001100011001100011001100011001100011001100011001100011001100011001100011001100011001100011001100011001100011001100011001100011001100011001100011001100011001100011001100011001100011001100011001100011001100011001100011001100011001100011001100011001100011001100011001100011001100011001100011001100011001100011001100011001100011001100011001100011001100011001100011001100011001100011001100011001100011001100011001100011001100011001100011001100011001100011001100011001100011001100011001100011001100011001100011001100011001100011001100011001100011001100011001100011001100011001100011001100011001100011001100011001100011001100011001100011001100011001100011001100011001100011001100011001100011001100011001100011001100011001100011001100011001100011001100011001100011001100011001100011001100011001100011001100011001100011001100011001100110110\n",
      "\n",
      "Texto original: 12345678678678678678678678678678678678678678678678678678678678678678678678678678678678678678678678678678678678678678678678678678678678678678678678678678678678678678678678678678678678678678678678678678678678678678678678678678678678678678678678678678678678678678678678678678678678678678678678678678678678678678678678678678678678678678678678678678678678678678678678678678678678678678678678678678678678678678678678678678678678678678678678678678678678678678678678678678678678678678678678678678678678678678678678678678678678678678678678678678678678678678678678678678678678678678678678678678678678678678678678678678678678678678678678678678678678678678678678678678678678678678678678678678678678678678678678678678678678678678678678678678678678678678678678678678678678678678678678678678678678678678678678678678678678678678678678678678678678678678678678678678678678678678678678678678678678678678678678678678678678678678678678678678678678678678678678678678678678678678678678678678678678678678678678678678678678678678678678678678678678678678678678678678678678678678678678678678678678678678678678678678678678678678678678678678678678678678678678678678678678678678678678678678678678678678678678678678678678678678678678678678678678678678678678678678678678678678678678678678678678678678678678678678678678678678678678678678678678678678678678678678678678678678678678678678678678678678678678678678678678678678678678678678678678678678678678678678678678678678678678678678678678678678678678678678678678678678678678678678678678678678678678678678678678678678678678678678\n",
      "Texto descomprimido: 12345678678678678678678678678678678678678678678678678678678678678678678678678678678678678678678678678678678678678678678678678678678678678678678678678678678678678678678678678678678678678678678678678678678678678678678678678678678678678678678678678678678678678678678678678678678678678678678678678678678678678678678678678678678678678678678678678678678678678678678678678678678678678678678678678678678678678678678678678678678678678678678678678678678678678678678678678678678678678678678678678678678678678678678678678678678678678678678678678678678678678678678678678678678678678678678678678678678678678678678678678678678678678678678678678678678678678678678678678678678678678678678678678678678678678678678678678678678678678678678678678678678678678678678678678678678678678678678678678678678678678678678678678678678678678678678678678678678678678678678678678678678678678678678678678678678678678678678678678678678678678678678678678678678678678678678678678678678678678678678678678678678678678678678678678678678678678678678678678678678678678678678678678678678678678678678678678678678678678678678678678678678678678678678678678678678678678678678678678678678678678678678678678678678678678678678678678678678678678678678678678678678678678678678678678678678678678678678678678678678678678678678678678678678678678678678678678678678678678678678678678678678678678678678678678678678678678678678678678678678678678678678678678678678678678678678678678678678678678678678678678678678678678678678678678678678678678678678678678678678678678678678678678678678678678678678678678678\n"
     ]
    }
   ],
   "source": [
    "texto_prueba = '12345678'+512*\"678\"\n",
    "ventana_tamano = 8\n",
    "\n",
    "# Comprimir el texto\n",
    "binario_comprimido = lz77_comprimir(texto_prueba, ventana_tamano)\n",
    "print(\"Binario comprimido:\", binario_comprimido)\n",
    "\n",
    "# Descomprimir el texto\n",
    "texto_descomprimido = lz77_descomprimir(binario_comprimido, ventana_tamano)\n",
    "print(\"\\nTexto original:\", texto_prueba)\n",
    "print(\"Texto descomprimido:\", texto_descomprimido)\n",
    "\n",
    "assert texto_descomprimido == texto_prueba, \"El texto descomprimido no coincide con el de prueba\""
   ]
  },
  {
   "cell_type": "code",
   "execution_count": 349,
   "metadata": {},
   "outputs": [
    {
     "data": {
      "text/plain": [
       "2373"
      ]
     },
     "execution_count": 349,
     "metadata": {},
     "output_type": "execute_result"
    }
   ],
   "source": [
    "len(binario_comprimido)"
   ]
  },
  {
   "cell_type": "code",
   "execution_count": 350,
   "metadata": {},
   "outputs": [
    {
     "data": {
      "text/plain": [
       "12352"
      ]
     },
     "execution_count": 350,
     "metadata": {},
     "output_type": "execute_result"
    }
   ],
   "source": [
    "len(texto_prueba)*8"
   ]
  },
  {
   "cell_type": "code",
   "execution_count": 351,
   "metadata": {},
   "outputs": [
    {
     "name": "stdout",
     "output_type": "stream",
     "text": [
      "Binario comprimido: 0011011000110111001110000011011000110111001101100011011100111000001011000001100110001100110001000110\n",
      "\n",
      "Texto original: 67867678678678678678678678678\n",
      "Texto descomprimido: 67867678678678678678678678678\n"
     ]
    }
   ],
   "source": [
    "texto_prueba = '67867678678678678678678678678'\n",
    "ventana_tamano = 8\n",
    "\n",
    "# Comprimir el texto\n",
    "binario_comprimido = lz77_comprimir(texto_prueba, ventana_tamano)\n",
    "print(\"Binario comprimido:\", binario_comprimido)\n",
    "\n",
    "# Descomprimir el texto\n",
    "texto_descomprimido = lz77_descomprimir(binario_comprimido, ventana_tamano)\n",
    "print(\"\\nTexto original:\", texto_prueba)\n",
    "print(\"Texto descomprimido:\", texto_descomprimido)\n",
    "\n",
    "assert texto_descomprimido == texto_prueba, \"El texto descomprimido no coincide con el de prueba\""
   ]
  },
  {
   "cell_type": "code",
   "execution_count": 352,
   "metadata": {},
   "outputs": [
    {
     "data": {
      "text/plain": [
       "100"
      ]
     },
     "execution_count": 352,
     "metadata": {},
     "output_type": "execute_result"
    }
   ],
   "source": [
    "len(binario_comprimido)"
   ]
  },
  {
   "cell_type": "code",
   "execution_count": 353,
   "metadata": {},
   "outputs": [
    {
     "data": {
      "text/plain": [
       "232"
      ]
     },
     "execution_count": 353,
     "metadata": {},
     "output_type": "execute_result"
    }
   ],
   "source": [
    "len(texto_prueba)*8"
   ]
  },
  {
   "cell_type": "code",
   "execution_count": 354,
   "metadata": {},
   "outputs": [
    {
     "name": "stdout",
     "output_type": "stream",
     "text": [
      "Binario comprimido: 011000010110001001100011011001000110010101111000011000010110001001100011011001000111100001100001011000100110001101100100011001010110011001111000011110000111100101100001011000100110001101100100011001010011000100110010001110000011100100110011001100110011100000110010101100110100\n",
      "\n",
      "Texto original: abcdexabcdxabcdefxxyabcde1289338abcdef4\n",
      "Texto descomprimido: abcdexabcdxabcdefxxyabcde1289338abcdef4\n"
     ]
    }
   ],
   "source": [
    "texto_prueba = 'abcdexabcdxabcdefxxyabcde1289338abcdef4'\n",
    "ventana_tamano = 32\n",
    "\n",
    "# Comprimir el texto\n",
    "binario_comprimido = lz77_comprimir(texto_prueba, ventana_tamano)\n",
    "print(\"Binario comprimido:\", binario_comprimido)\n",
    "\n",
    "# Descomprimir el texto\n",
    "texto_descomprimido = lz77_descomprimir(binario_comprimido, ventana_tamano)\n",
    "print(\"\\nTexto original:\", texto_prueba)\n",
    "print(\"Texto descomprimido:\", texto_descomprimido)\n",
    "\n",
    "assert texto_descomprimido == texto_prueba, \"El texto descomprimido no coincide con el de prueba\"\n"
   ]
  },
  {
   "cell_type": "code",
   "execution_count": 355,
   "metadata": {},
   "outputs": [
    {
     "data": {
      "text/plain": [
       "276"
      ]
     },
     "execution_count": 355,
     "metadata": {},
     "output_type": "execute_result"
    }
   ],
   "source": [
    "len(binario_comprimido)"
   ]
  },
  {
   "cell_type": "code",
   "execution_count": 356,
   "metadata": {},
   "outputs": [
    {
     "data": {
      "text/plain": [
       "312"
      ]
     },
     "execution_count": 356,
     "metadata": {},
     "output_type": "execute_result"
    }
   ],
   "source": [
    "len(texto_prueba)*8"
   ]
  },
  {
   "cell_type": "code",
   "execution_count": 361,
   "metadata": {},
   "outputs": [
    {
     "name": "stdout",
     "output_type": "stream",
     "text": [
      "Tabla de frecuencias guardada en Tablas_Frecuencias.txt\n",
      "Texto generado guardado en Fuente_Markov.txt\n",
      "Binario comprimido: 0110111001101111001000000110000101101100011000110110000101101110011110100110000100100000111010010111000001101111011000110110000101110011001000000110010001100101001000000110100101100111011011100110111101110010011000010110111001100011011010010110000100100000011000110111001001100101111011010110000100100000011000110110100101101101011000010110001001110101011001010010000001110011011001010111001000100000111000010111001001100010011010010111010001110010011011110010000001100101011011100010000001100101011011000010000001001110111011011010100110111100100000101101100001000111000101101001101110011101100011010011011001000001100110001011010011100110111011010110100110110110010110010101000100111011000100100010111101110100101100001101101110101110100010011100010110010010110010110110001001100011110100011111101101110101101111101100011101100101101110010100100000101111001101100001011011000101010000001011110000100001100010010010110110111001001011000100001110010001111100100001000110110111110111010010111001001000110011011100001011000011011100100110110000010010010101001101110100111110010010010101000111101011011110100110111101101101011000011110110100010110000110110010001100010100110101000101110010101101111101101010101101111100100000101101110101101001010011111010111001101001110011011100001011010011111100110100100110101100101101101100100100000101100001101100110101110010101101001101100011010011000100101001100010110000110111010101001110010100000100101100111101110101101110011101110100010010011110110100001000101101011010011011001010100110001010010010010110101010110000110110110111110000101001111101011100101011001011011000110100000011101100001101110010101110011101100101010011000101000011001011011111011011010100000101101100101010011111010110110001000010111011000110100100001101110100101100101101101101101110000010000101001001011011111100110110111100101110011111101101001000010010101100011101100101101100010101101001101100100101101111010010001010111001101000110111001000001011011011011101011011011100010000010111011100100110110001101101100100100000101100100010011111010110110010110111110111001110010000010110011101000011100100010101010001111010010000010111000001000100111011010010100001100011001000101101101001001000001011100011011101010100101101101101000010011000010111010001000100000100010111101111010101100001011011111110110111001001101111011011010101000000010011001110110101001101010101011011000110001001101101001010000100101000111100100111001100100000101100001101100010101100001101110100101101001011010000010111001110110100101101000110100111100010001111010111010011110000110010000010111000001001101101011010001011010011011000100010000101101011000011011101100100100011010011111110111001001001110111111000010100110110101110110101101111101101100010000111010110110101101001001011010011011011101011011011011001010101000000010011011101000011011011001011011011101011101001011001010100111010101101111101100010101110010010000011010110111010111010101101110110100111000010010011110111000010110000101000100010100101101101111001010011101110111000101000100101011011000100011101101100101111110001101101111010011111101100010111001000001011011000110111010101100001101100100101101101101101001101110100101101001101110010111100001010010010101001010100100111011101101111100100000010100000001001111101011101010110100100101101110001010001011101110110101101001101100100101100001100100000101101101111100001010011110101001101011011100100100011010010000101110111011001001100101011011111011101000100101001010011011100100011101110110100010110000110110001001001110111011000010100110101101100101010001111110110010010110010101001110011011100110100001001010010101110111010110110111010110010000101011100110110010110110110010010000010111000110111010101000101011011000011111110100100001011101110110101101001101110110011001100110110100101000111001011001011011011011011011111011100101011010011011000011001000001011110011001000001011011100100100011101110000101101001011010100010110111010110000110110010001000011111011011011111000010100111111100110001100110101010010101001001110011011100101111010010100001010101100100011010101110110111110111101010111101001001011100010001111101011001101011101011111010010110010001101110011101110000101101111101110011101100101111101101011010111101000111001011011001001000001011011111011000101011010010100010000010011011100100000110101000111111011011001011011111011100101011001011011011101011000111011010011011000010100111101100100000101100011101100001101110101101110011010000100001101111101011101001011010011011001101011001010100101011101110011101101001101101110010011000001001110001011100101001000000110110011101110010101110101101101101011000100101101100001011101011011011100100101001101110010101110010101101111101111001101110101010001010101010000001011100010100000110011010111110111001101001111101011001011011011100110110110001000101011010001111110110000110010000010110001101001100111011100100110010010101110100001010011100011011001110110110001000100111011011010011000011111011010011011101101011010010110100000011010101100100011100101001110001011101001111000011011011100100011101101101100010011110010110000110111001110010000010111010010110111110110010001100001100100101010010000101001001111101011100110110010000001000100001101110000010010010101001111100100100010101110010010000011010111010110110111001000111101011100100100110001010010111010111000010110010110111001010110101010111010110110100110110001110110100110110111110010000001000110101001000001011011111011101001011100100100101100001000010011010000111010110111001000100011011000010110110011101101100101101100001110111011011001000010110111110110001110111010110110110010111010010110000101001111111011011101011000010100111100010001110110111010110110111000100001011110110001110110111110111001010111001001100100111011011111011000101011100110100011101101110010101100101101100011101101001010001101001010000001011000101011000011011010100101000000010001111101001001001011100001011001011011100100100000011101110100101110101010010110110111001110110111110110110110110001001001001111001000000010001100011011011100100011011101110000101100001011010101001101110111011101010110101110101110010101110011010001001110110010010110010110110110010010000010110100110110111001000100101011011101011001001011010010100111000101111001010000001010110000101100111011011101001011000011011011101001000001011001100100111111101101111101111010011001000110110000110110110001100011100100001100010100000010110001110110111110110110101001111101011100111011010011001000001011011100100100111101110100101110101101110110101101001111101001010001001101000100001011100111001000001011011111011101000010100110111011100110100100000101100101010011010010110110001001001101011011010100000111101110100101100101100100000101110000010011110101010000001011000110100111001010000100110110111110111001001001101001111011010100010110101101001101110011101101101010010011101101110101011100111111100111011011000110000101010010000110110100001100110111011100101011011111011101100100010111101110100010001010001010000000110111000101101110101100001101110100101110101101110010101100001101101100101100101101111010010011010010110010001010000001011000111011000011011001000100111100101100011101101111101110011010011010010111001110110100101101101101011101001011000011011011011011000101011010011111010011011011100011001010100100010111101101110101110011101100101101110010101110110101100001101100011101101001111110011010001001010111100110010000010110010110111001101000111100100011101101101100101101001010011000110110010000100011101010111010010110111101001110101011100111001000001011010101011101011011011100100110100010000011110111000010110111110111001001001100100100111111101100011101110101101100001101101100100100000101101101010001110010110000110111011001001110001011001111111111001011001011011011101011110101011000010110111000010000010010111010011110110110010000010110111001000111011011101000100110100101101000101101111101101110101110010010001001110110110110111010110110001101000010010100110011010010001101001100011011100111011010011001000001011001010100111110011010111010110010010110000110110010010010000010110110001001001001011100011011101010110100101010011010110110010001001010111011010011011011001011101011011011011011010011011011101011000011011100100100111101101110101010010001110110111001001111001011011101011001001011010010100010000011000100101001110011011011011011011111011100111011101001011100101111000010100010000101101111101101100010010110010110110001001011000011101111011011011100100111101101100101101110011010001110001001010110100000110010010110101001101101011000111011011110110110100010010100011110100110010000010111000010111010101100101110110001110101110011101101001101100100010010100101001111011011010011011011011011100000100111111101101001101100010011011101110111000101000110010010001111111011011101011000011011101001011101011011100101011000010100010000101111010010000101110111010010110100101101111101001000001011100111011101011001000001011011111011100101011010011011001110100001011100100000011000001101101000011011010011011011101011101001011001011011011000010000100001011000111011010010100101110101100100101101001101110110010001000001001101011011110010010000111000110101001101100001101110010010001110001001101110100111110100100000101100011101110101011000010101101011011011001001011001011011010101011011111001000001011100000100010111010011011110111000110111010101000110100110111110101100001101101110101110101011011100101001001010100000110010011110110111010010111001010110111110110110101000111000110100100100100000101101101101100001101111001101101111101110010100100000101110011101101111101101110101101001101100100010010111100111010101001001001101011001111111111001011001011111100010110001000010001011001000110101011101011001000001011100001011010010100001001010011001010110010110110111011110110110110000101000011111011101001011011111011001001011000011011100111001000001011001011011011001001000001011100101011011111011100111011101000100000100100100000101110110010011001010110110001000101001001000001011010001011000010100110100010011100001001110110110011011101110011101110000101100001101101100001000100100101111001010000111101000011000100101010101110010010001011110111000010111001010110010101000111101011100110100101100010011111101001111001011100100011101010111011000010100111101111100001010010110110111000010110111110111001010111000110111010110110010101101111101011000101111011010100011101010010100001001011011011001001011010011011001000100101000101101100010011001110110011001001001011011101011011011001011101001011000011011001001001000001011001000100011110101110011101100101101110000010011011101001110010100000111001000001101101100001101101100101101100111101101010011110110110001010110000110110101001001001111011001011011011101011000111011011111011011101011101000100011010101101101101101111101110011100100000101110101101101110101100001010000010110110011101000100101011101001011001010100001100101110000101101001010001011001001110100110010000101110001101110101010011110110110011110110100101001110110100101110101101110011010110110010000010111010010110111110111001010110111001001101100110110100100100000101110011101110101010011001010111010010110100110110101010110010101001111000100111010001000010000101100101101101100100100000101110110101101111010100000010110000101000001110010001100111011100101011011111011011011011000011001000001011001101011101011111010011001000001011011000100000111101110000101110010101101001101101101011010011100100011111110111001101000101111011001011011101000100110011101110011010010000110111100100100000111110110001110111010110111100110110111101001110011011011011011100001011011001011001010100000111101101110010000101010110100010110000101001000101011100000010000111101011101100110101111101100100010001101010111010001000100001011101000100100000101110011101110101101110011100100000101100100101100101101110011101100011010011111110110010010110100101001101000100111110010000111001101100101011001011011110101011000011011100101011011110100101110010001011101001001001001000000100101110101111010100100000101101101101101001010010010110111000010110000110110110010110000110110001001001110010110001001101101111101110010100100000101101100010011111110110001110111010101000100010100101100010000001110110110110110000101101001110100101110010010010010110010110010000010110010010110100110110101001000110001011010000010000001011011011011111011010100100001101111001010011110001100110101011000011011011011011011110100111100101100011101100101101110010101100011010000111010110010001101011101011100100110011001010000100010010000010111001110110000110110111010110011110111001001001100011011001011011011100100100011010001010010110001110111010110110000101000110011011100110100111111101101001101101110101100110101110101101101110011001110110110001110110111101001101000010000110111011101100100111010101101111101110100101110010011011111110110110001001111000100011111101101101101101001101101100011000100001101111001011101001011011111011001000100010000101101010101110101101110011101110100101101001101100011101101001010001100110111100101101001111011011001011101101011010011111010010100111001010010111001001110111011000011011011000100011111101101001101101101111110011010011110001101010001011100011011101010100101100101101000101100001101100010111101101010011110101001010101011100101011000010100011111100100000101101100010000001110110001110110111101001010001011101011011010100100001011011010100010111000010110100101001011110110100110101101100101100001101110011100100000101110010101101111101100011011000011000101000110101001110011011101010100101100010010011110110010110111001001000100101001000001011001010110011010101100101010011100001001100100100111011101111001010011001010111010110110111010111000110111010101001100101011010001011000011011110010110110001101100001010001010010110000101100101101011011011011101011011000111011010000100011100010011100010111001101001100000100100101101101001011000010001001010011011100110100000111101101101101110000010011011001001011111011011001001000001011001100010101110101011100001011011111011100101001000001011011001011000011001000001011010011011110100100111110010010001010111001001001101111001000001011010001011000011011000111011010010100010000011001001101001101111011101000100101001101100011010000111110010000010111100101001001010100011010010010111010111001010110000101100111100100110101101110011010010110110111001110110100110110111010010000001001011111011001010100100010101101100100100000101100011010000011110111001010111000010110111110010000010110010001000011011011001001011011111011011100110000110101110011011000100101101110011011010010111000000011000100010111000010111010111110100110111001101001011101011011111011000101011100100100101100011001000101001110101011011101011001110110001010011010110010110111110111010010111001001001101000100101011101110010100100000101100101101101110100100000101110110101100001010010000110010000010110111010110000110111010010111010110111001010110000110110110010010000010110000110111000110111010111110110101100110011001000001011011011011001011011110101011000110100110010010001110101001101100101000000101100100101101111010000010001101111101011101010100100100010011101110110100110111001110111000010111010110110010110111001110111010001000011100100010000101110010101100101101100011101101001101100010101101001101110010001000011011101101001101101101101110000010000111010111001110110100111111001100100011000010010000010110111110111010010111001000100001111110110010001100111110100011101101110110101100101101110010101100100101100001101100100100100000101100110010011010110111001010110111101000111100010001110101011000101011011000110111000101100100101101111101110011010000110101001011101011001101011000011011101101011011110100100100010010101010110110010010000001001111011011101001011010011011011110100000110101100001101101110101110100010000011001100110010100100000101101110010100000010010000010111001001001100000100101010010000011100100001111110111010110110001101001111000011101010111011001111011100100100100110100100000101110000101100101101100100101110010010011000010110010010111010101100011001011101000110100010101110011011000010110111011010110100110110000110110101001001101001011100000110100110011011000110111000110111010100100000101101001001001111010011011010011011100110100101100101100001101110011101100001010011101110110000110111100110110010101010000001011000111011010011011011101011000110100110111101101000010010010001000100111001000001011011011111000010100011011101110100010001100110110010001001111110010001011011011001011011011100100110111101110011101110100010100000010110110110110111110110110101000010111011101000100100100101110011010100000010110001110111010110110110110111000010110110010110100101001101101011011110100011011101101101101101001101101100100100000101100100101101111101110011010011111100100001110001001110110100011101010001111101001001011011000011001000001011110010110100111101101001010000111110110000111111000101100101001011001000100111111010000001110010000010111000110111010101001110000110111011010011010001001110111011010011111100111001000000100100111101110100010001001110111000001000100110100110101010001101001001011101011000111011011111011011100100111001101100011011000111010110001110110100101001110110110101100101110101101101110100100000101100010101100001101101001101101100010011010110110011010111010111110100101000111111011100101011100101011000010100101110010000010010110010010110111101001010101011011001001000001011011010100001111101110100101101001101110010101101001010000110010011000110011010110011010010010000010111000101001100111001000001011011100100010111011011111110110111110111101001000001010010000111111011100001011001011011100111011000110110101010101110010010001011110110100101001110010100001110101100001101100010101101100001100101010101110011101100001101101110100100000101101010101110101011000010110110001010110000110111010101010000001011100111011101000100011100010010100110111010010111010110111011001001111001011001010100011000101100101010011011110110110010110100110110110110110001001010000001011100110100110100101101110010010111110110100001001101011111011010100111011101110010101100101101100011101101001101100010101101001101100100011010000101000111100011001101001011011010100101101101110000101100101101110010011000010110110111110111001010010000010110110110110100110110010101100110111011001101011101011111011011001000001011000111011100100100011010010001110110110000101101110001011001011011011101001000001011100110100110101010011100010111010001001101001011110011001000001011001001011101011011100100100010100101110100101100101100100000101101100101100001101110010101100111010011100001001111101011001011011011010100110111001010111010001010101001101100011101101111010001110001001000000100001101011011001101001000010010000111101011100100100101110100100000101110101101101110010000101110111011001000010101011001001011000011011001000100110000010011110010010000010111001110110010110110001110111001010110010101000010010010001100011011100011011101010110100010001000000111101100101100100000101100100101110101101100100101100101101110011010001110010110100100101001011001000011111011101001011001011011011101011001111011000010100010000101100011101101111101101101101110000101101100001000101101101100011010100000010111010010110100101001001001011011011011000100100111011010010101101001011100010001100100110101111101110110111101101101100011010001011010110110101000111101011100000100011110010011011110111000001000001001011011101011101000100111110101110011101110101010010110001001000101011100101111000010010101001001011100001011000010100110100010011110110111100101100101010100101101101101000101100001101100010101101001101110100101100001010010001101101110001011100001011011111011100100100101000010011010010010000010110111110110001010111001101010000001011011100100100100101101111010001111010110001101101111011011100100100101011101100101101101100100100000010011110110110001001100110111011001011011011101011100101011011111011010101011001011011000110100100101111100001101101110001000010101101100001101100111101110101010001110101000110101001000001011100011011101010100000100101100101010011010110110000110110001001001010111011001101011011111011100101011011010100111011010011001110111001110111010110111001010110011110110100111111001101001000101001000001011011011011010011001000001011010010100010010010000110010110111010110000110110001101000100000100110110101110101010000100001001100101011011111011011101011000110100111110101101100010011101100100011100001000010000100110010101100001101101110010001001101000101101011001011011100111011000110100011001101110011101101111010001100001101111110100001101101100011111101101010011110010110111110110100010010000010111001010110010101101110101001000001011100000100100100011010110111110100110010000010111010010111010110010000010111011010110100110111001110111010001001110101011100110100111001101101111101100010010000100100100001110010110010110110111010010000001101110001011101001011001011011011011011100000100111010010010011010110000110110100011110110101000001001011000101011000011011010101011011110100011000101110011101100001101110011010010100010110111110110110110110001010111001001100010001011101001011100100110110111010001001010010000010111100110010000010110110110111010101001101100100101001101100100001000010100111111010100100000101101110010010011110110100001101001101011010001011001011011000111011010000010001100010110110101101101110100100000010001110101001101111011011110100110000011011110110110011010110111110111001101101110111011100111011010011001000001011000111011100101011001010110111100101110000101101111101100100101100101101110010010000110010110111110110111010111010010110000101000001110100101101011011100010110000110110110010110110101101111101011100001011010010100110110010010100110010000010111000110111010110110010101101111000010101101011001000001011101000110010011010000111010111011010110010110110100101001011001011010011011001001111100110100111011101101101101101001101101100010001101101001100000101000000010011111110110100110111001010110001110111010110110111010110011010110010110111001001001101000100001011010011010101101100011011011000100001111010011110110110010110111001110111010011110000110010000010111100101001111100100100010101100010101100001101101010101101111001000101001101101110101101111101110011101101111101110100101110010010000010101000110111011011001001000001011101001011010011011001011011011011011100000100010110101110001101110101010100000010110110001100100101011000111011000011011011100100101000010011101010110001000100001111010011100110011011001000100111011000010100100101010010101010110010101001010101011101101011010011011100101011101001011101010100111011011000111010110010110110111101001010001011001111011000011011011000110010100010010011101001011111011011110100101001101101110010000011101001100111001000000100010110101101001101110110010001000010110100101001111101011010011011000110100010111011001101010111001110110000110110001010110100110110010010111010110111001011110110101100111011011000011011011100100110101100100000101101110101101111010011000001001110011011100100110110111101110100101101111010001001010111011001100110001011100000100111100101110001101110101010011100110111011010110100110111001010110011110110100101001111010100011111101110011011000110010110000110111100101100110000100010101010010010101101010001011100000100101101101100011101101001101110011010011011100100010010110110010001001110001011000111011101011011000101011100101011000011011011100100111110101110101010001110110110111110110101010110111101001000101011011000011000110100100010000010011100111111101010111000001010000001011000110100111001011011000010110110010110000110110110101000010000100111111101110000111101101101110010101101001011001100110110010110110111001000101101011100101011000111011001010100010101101100100010010110010110010011110110110110011110110111010110000110111010001001100001011000011111110101011011100100001100010010100110110100110111001010110111010110111110111001110010000010110001111111001110110110101000110101011100110100010101011010100110110100110110010110111001010111001001101110111011011000100100001101101100101101101011000100001001001011011001011011100110110100001101101110101110101010011101100100000100010111010010111001010110111101001000110110110001101111001010011110010110100110110110101001100001011000011011001001011001011011011011111000010100111111101110011101101001100100000101110000101110101101100101010000110000101000101010110100010110000101000111010100111100101100111101110101101101110010011111010111000101000101010100011100010010011001100110011011100001011100101011001011011011101011001000100010001010010111110010000010111010001000111000110101000101101101101101001010011100110110001010111001010110111101001110110100010111101110100101101111101101110101100011011011101010110010110110110001000110110100010001010000101110110111101001100101011101010100101111101101001101110010111110011100100000101111001100100000101100001101110001101110101011001011101001110111011100111011011111011100001011011001011010011011001000110011010010011111101001000001011011101011101100100011101101110100101101001010001111101001110100100100000101100111101110101101100001010001001010110000110111100101001011001011011000100001000101101100101101100101110101010001101001000011110100110110101101100101101111101110011100100000011011100101001010111011010001011011110100011100010010010101001010001011101001011100100100111000101110011111101101011010010010110111010111101001000100001011001001011011111001000001011101000010000101101011100110100010110101101001101100100011001110001000010011001000001011001110100001010101110100011011010010111000010110111110111001001101110001111010011001000001011011100110100010101101001010011011001100110011011000010110111010101110110101101001101101101011000110101001000000100010111101101001100100000101110110101100001101101100011010010010110001110111010101010000001011001000110100100010001110001001110111011011011011101011011010101011001010010000010001011000100100110000101100100101101001101110100101100001010011001101000111011011010011011001000100011111100100000101100100101100101010010000001001100000100111000100100000101101100101100001010011000001001101001011101000100001111101100011101100101101101100010011000001000101001011000011011011001001000001011110010100110110101101001010011101010111000001000010101011000011011000101011100100110110010011001110010111000010111001010110111110110110110110010101001001000100110111101110100010011101110111010010110111110010000010110001010110100101101110011001100100010101110110100110100010001100110110111010110001101001101101001000001011001001011010011011101101011010011011011100100010001100110011001000010110101100111010011011100010110010011010011000010110110111110000110111001100110011010000010100011100101110001101110101101100101100100000010011100110110000110110110110110111101001010111001000000100111101101110100101110101010010010001000111111011101000100010011101101000101100001011000010110110000101101011001011100101011101000100110111011010111010110001010110111110110001101001100110100010101101110011101110100010011100110110010101000001010100110011101110000101110101010010011001000110011011000111011011110100111000011010011010111001010110100110111001010111001101001100111011001001011001011011000101111011010100101001101110000101101111101110010100100000010010010100100001110110110000110111000010111001010111010101000100110110100101101110101001010001111010011110110010000010111001110110000110110110010110100110110010001001101100100101001100100000101100101101101100101101100010010101110110110110110000110111001101001111011011010000100110000010011010110110010101000010010100101101101100101101100011101101001101110011010011011010111000101001101001001000000110011100010010101010111010011110110110111001110110100101001000100100001100101110101101111010100100000101100011010010010010110111110110111001001101010110111000101110011101110101100100000101100111101101100010011001010110100101101000010100100110101101111010011111101001110011011100001111011010100001110101110100101110101010100000001001101001011011101011001111011101011011010010100100011101100011101100101101110010010001011010110111010010000010111010001001001001011100111011101000100011110100100000101101101010011100110111010001101111000100101010101110000010011011001001101001011100011011101011011001011011011001001000001011011111011000101011100111011000111011101011011100101011011111001000001011101101011000011011011001011011001011001011001000000100001011111100001010001001110111100110110000110110001111110110110110000101001101000100111000101100100101101001101100100010001100110111001101001000101011100100100011001011010101010111011010110100101000100101011101000110001011001010100100001100010110101101100101100001101110011010001101010111001110111000001001110111011001000110001001101110101101101110101101111010000111010110010001001010111011011110100100101011000100110111100110010000001000101101011001110110010011010000011110110111001000111011011000101011000010100001110100100000101110010010010110101001111110110110001101110000101101111101110010010011010110110110010010000001001001101011010010100010000010010111010110001110110000110110110110110100101101001101011010010100100011101101101011011111100101000111001101100100100110111101110000010010111001101111000011000001111011100110100100010100100000101100100101100101101100011101101001010011100010111010101000111010110011010101101100101100001101100010101110010010001101110110110111110000101001100001011001011011011101011101001011011111011011101011000111011001010100111001101110110101101001011001110001001111110110010000101100001101110101101110010010011111010110110010110110001000110100100111111010011010010010000001001101000100110001101110001101110101010000100010110000110110001110111010110110010011110110101001111001011001111011100101011010010100100001101101110101100100011001101111111001101000001100100011110010011100110111010011110000100010110001011010001000010110110010010000010111001110110111110110001010110010110111001010110001010110100101001111010111000000101100011101110010101100101010010101000100011111010110001110110000110111010110111001110110000110111001001001111111011011011011000011011110011011011111011100101001000001011101001011100101011010010100111000101100101101111010010000111110111011001001010100100111000101101110101100110010011000010110110101001011110110111011101110000010010101010110001010110110001100010101011011100100011101101110010010100000010110010001001101111011001011011001111011010011011011100100110101101100011101110101101100001101101110101100100010010000110111001101000100000100001110101100110101101001101100011101101001101101111101101110111110011100100000101110100010001001110111010000101011010010110000110110100110111001001001010001011100010100111001010011110101001101001011001010100011100011011100110110111001000111011011011110100101111101110011100100000101101100011000010001001110011011010011011011011011000011011011001011001010100001101101101000101100001101110011010011001100100011000010110110110110100110111001101001010011011000011011000100100010100100100000101100111101110101101110011010001111110110111101100110101011000100100110110101101110010011000110010000001000011101011011001011010010110000111101100100010010111010111000010111010111110100100110011111100100001110001001101111011011101011101000100010011011001011101001111101011100110100001001010100000010111010100100010110001001100010100001110101101100100100000101110001101110101010001010110111001101000110001011100101011001011011000110100000011101100001100100000101100011101101111011010100110110110110111000010110110001001100000010001000010100011110001010001101010010101100100010010110110100010110000110110001011110110101001000011011010000100101000101101000010011101110111011010110111110111010001010000001011001000100111001101110110101101001101110011101101001101110100101100001101110010100100000101111001010010110010111001110111000010110010110111001001010000001011000010100110011010001110010110110010111011001000010110100001010011011111110110110001101100001011101010100110101101101110100100000101110000101101111010010010001001100101011001001011000011011100110100001010010010111010111010001001011001001000001011000111011101010100010110101100100101101111100100000111101001010010111110110110110110010110010000010110010010110100110110101001000010111011000011011100011011101010100110001100100000101100110101110101111101001011011100001000100101011101011011100100100011101101100110101110010101100101101101110010010001101100101110100100001101100101101100010101100101101110010111101101101100001010011011010110111110110111001001111011011011100100001011010010110101001110001011010001011011111011011011011000100100100001010010110110110111010010000010111001110111010110111001110010000010110110011110110110110110110110100101000110110100001000101110000010010100001001110011011011011011011111011100101011001001111010011011010010100010101101110100101100001010001110110110011011110000110110001110110100110110110010110110101001101010100111000010010101101001101011011000111011001011011000100100011111101110001101110101010011011110110111101001100111011000011011101001011100101011000010101000000101100011101101111010010010010111001110111010101000011011011011101011110100100010110101101100010011101101101001000100110101101110100101101001101100111101110101010010011110110000110110010010111011010110010110111001010111001110110000110111001010110100101001100101011100111011010011011100101011101101011010011011001011011011101011001001011011110110110111101100100010011110110111000010110111101001101100010001010101011001101011100100100010100010011001100101011010101000010101011000111011011001011000011011011010010110000001011000110100101010101101100011001011001001010101011011000110010010101100001100100000101111001100100000101100111010011111001000001110100111110100100000101110100101101111101110010011010111101110000000100101010100100000101110000101100101101111010011000101010111001110111000010111010111110100101101010000100010010101110000101101001101101110101100011101101000101100001101110010101101111010010010110110001101100001001011011011111000010100111101011010011110110001110110100101101101010110100100111101101101110010101101001101110100101110101010010011110111001101000011101011101001011000011011001001011011110100110000011001011010110110010110000110010000010110001001001011111011100011011101011011010011011011000110001010101100011101100001011001100101000011110100111100011000101110110111110111001010110111110010000010110100101101101101011110000110110011010000100110111001110111001010110000110110010110110110010010000010110010010110010110010000011110011010110011110110100110111000010111010001000110101011110011001000000100000101101100100010010000110110110001001001000100010100101101101111100001101110011010010011101000000111010111111011101100100111110010010110001101110101011010000100100110101110000101100001101110010010000010010110010110111001010111001110110111110110111010110000110101111100110010101010111001101001110110100100000\n",
      "\n",
      "Texto original: no alcanza épocas de ignorancia creía cimabue ser árbitro en el campo las discordias civiles bastante debes conocer ya la excelencia de la otra parte eran blancos manchados de rojo ni escipión el africano ni aun augusto hicieron jamás recrearse a roma en la contemplación así concebido este mundo era el de los grandes peligros con que he tropezado no me dejes le dije tan abatido si nos está prohibido avanzar más volvamos inmediatamente sobre nuestros pasos y aquel señor que los admitirá pronto en su seno en vida más serena vosotros los habitantes de este mundo en el que aún vive mi memoria y no pido nada más 15 andrés de mozzi que fué desposeído del obispado de florencia a causa de tifeo sino por el rumor de un arroyuelo que desciende por una corriente desde la mente divina de que están llenas todas las cosas que pueden redundar en perjuicio de otros pero no aquellas que no ocultan nada aunque corran obscurecidas bajo una perpetua sombra que no parece cuidarse del incendio y yace tan feroz y altanera como si no tuviéramos otra cosa en la mente perfecta por sí misma no sólo se ha provisto a la naturaleza de cada cosa sino también a la conservación y estabilidad de todas juntas por lo cual me avergüenza y a tí no te honra mucho pero si es verdad lo que ha de iluminar tu entendimiento mostrándole la verdad no es menester contesté pues considero imposible que la naturaleza tiene su origen en la inteligencia divina y en su arte tal cual la dejo para que la anuncie una trompa de mayor sonido que la cigüeña con su pico tenían todas el rostro vuelto hacia las espaldas y les era preciso andar hacia atrás porque habían perdido la facultad de separarse de allí abajo encontramos unas gentes pintadas que giraban en torno con sus tijeras con el vos al que roma fué la primera en someterse y en cuyo empleo no han perseverado tanto sus descendientes empezaron esta vez mis palabras por lo cual el maestro me dijo hijo mío ya estamos cerca del río de sangre en el cual se infunde como en vosotros la semilla de toda justicia y volviéndose al timón de que había tirado lo condujo al pie de las rocas de la dura cerca es redondo y aunque hayas andado mucho descendiendo siempre al fondo por la izquierda hacia la estrecha y perforada fosa sin que el cuerpo de donde se destila después sobre la sangre de otro ser en vaso natural aquí se mezclan las dos la una dispuesta a recibir la impresión la otra a decir verdad fueron establecidos en favor del sitio santo en donde reside el sucesor del gran pedro durante este viaje por el que podréis pasar ayer cinco horas más tarde que en este momento se cumplieron mil doscientos sesenta y seis años desde que se rompió este puente a consecuencia de un baile fué arrastrado al martirio 154 que no conozco al pescador ni a pablo 154 san juan bautista estuvo en el limbo si no había recibido el bautismo pero por miedo fuí cristiano en secreto y durante largo tiempo por no encontrar en la tierra una verdad tan secreta no quiero que dudes sino que tengas completa certidumbre de que es víctima pero pronto sucederá que padua y sus habitantes por ser obstinados contra el deber enrojecerán el agua de que estaba formada surgió a mi imaginación una doncella que llorando desconsolada decía oh reina por qué tu vista se obstina en contemplar ahí abajo esas sombras tristes y mutiladas tú no has hecho eso en las otras fosas si crees poder contar esas almas piensa que la fosa tiene veintidós millas de circunferencia la luna está ya debajo de nosotros el tiempo que los candelabros 96 las tres virtudes teologales la corona de oliva indica la sabiduría dante no llores todavía porque virgilio se vaya pues es preciso que descubran tus ojos lo que tu súplica reclama espíritu encarcelado dígnate aún decirnos cómo se encierra el alma en esos nudosos troncos y dime además si puedes si hay alguna que se desprenda de tales miembros entonces el tronco suspiró y aquel resoplido se convirtió en agua cayó la lluvia y los que chocan entre sí lanzando tan estridentes gritos por qué no tienes atrevimiento ni valor cuando tres mujeres benditas cuidan de ti en la corte celestial y mis palabras te prometen tanto bien 2 la clemencia divina 3 la gracia divina o más bien la gracia que enamora a tu mente hate abierto la boca hasta este punto como abrirse debía por tanto apruebo cuanto ha salido de ella mas ahora es preciso que la altísima luz corone de su gloria a los espíritus languidecer en tristes montones por aquel obscuro valle cuál yacía tendido sobre el vientre cuál sobre las espaldas unos de otros y alguno andaba a rastras por el triste camino ibamos caminando paso a paso sin decir una palabra más entonces vi un centauro lleno de ira que acudía gritando dónde está dónde está el soberbio no creo que causara mayor tristeza ver enfermo el pueblo entero de egina cuando se inficionó tanto el aire que perecieron todos los animales hasta el miserable gusano habiendo salido después los habitantes de este mundo en el que se recrea contemplando el templo que había hecho voto de visitar y espera al volver a ella huían por todas partes cuando él me dijo aquel fué el duro freno que debería contener al hombre en sus límites pero mordéis tan fácilmente el cebo que os atrae con su anzuelo el antiguo adversario sirviendoos de poco el freno o el reclamo el cielo os llama y gira en torno de la pez después le pincharon con más de cien espíritus sentados en la barquilla cantaban a coro in exitu israel de ægipto y todo lo demás es _vanita che par persona_ todo se va\n",
      "Texto descomprimido: no alcanza épocas de ignorancia creía cimabue ser árbitro en el campo las discordias civiles bastante debes conocer ya la excelencia de la otra parte eran blancos manchados de rojo ni escipión el africano ni aun augusto hicieron jamás recrearse a roma en la contemplación así concebido este mundo era el de los grandes peligros con que he tropezado no me dejes le dije tan abatido si nos está prohibido avanzar más volvamos inmediatamente sobre nuestros pasos y aquel señor que los admitirá pronto en su seno en vida más serena vosotros los habitantes de este mundo en el que aún vive mi memoria y no pido nada más 15 andrés de mozzi que fué desposeído del obispado de florencia a causa de tifeo sino por el rumor de un arroyuelo que desciende por una corriente desde la mente divina de que están llenas todas las cosas que pueden redundar en perjuicio de otros pero no aquellas que no ocultan nada aunque corran obscurecidas bajo una perpetua sombra que no parece cuidarse del incendio y yace tan feroz y altanera como si no tuviéramos otra cosa en la mente perfecta por sí misma no sólo se ha provisto a la naturaleza de cada cosa sino también a la conservación y estabilidad de todas juntas por lo cual me avergüenza y a tí no te honra mucho pero si es verdad lo que ha de iluminar tu entendimiento mostrándole la verdad no es menester contesté pues considero imposible que la naturaleza tiene su origen en la inteligencia divina y en su arte tal cual la dejo para que la anuncie una trompa de mayor sonido que la cigüeña con su pico tenían todas el rostro vuelto hacia las espaldas y les era preciso andar hacia atrás porque habían perdido la facultad de separarse de allí abajo encontramos unas gentes pintadas que giraban en torno con sus tijeras con el vos al que roma fué la primera en someterse y en cuyo empleo no han perseverado tanto sus descendientes empezaron esta vez mis palabras por lo cual el maestro me dijo hijo mío ya estamos cerca del río de sangre en el cual se infunde como en vosotros la semilla de toda justicia y volviéndose al timón de que había tirado lo condujo al pie de las rocas de la dura cerca es redondo y aunque hayas andado mucho descendiendo siempre al fondo por la izquierda hacia la estrecha y perforada fosa sin que el cuerpo de donde se destila después sobre la sangre de otro ser en vaso natural aquí se mezclan las dos la una dispuesta a recibir la impresión la otra a decir verdad fueron establecidos en favor del sitio santo en donde reside el sucesor del gran pedro durante este viaje por el que podréis pasar ayer cinco horas más tarde que en este momento se cumplieron mil doscientos sesenta y seis años desde que se rompió este puente a consecuencia de un baile fué arrastrado al martirio 154 que no conozco al pescador ni a pablo 154 san juan bautista estuvo en el limbo si no había recibido el bautismo pero por miedo fuí cristiano en secreto y durante largo tiempo por no encontrar en la tierra una verdad tan secreta no quiero que dudes sino que tengas completa certidumbre de que es víctima pero pronto sucederá que padua y sus habitantes por ser obstinados contra el deber enrojecerán el agua de que estaba formada surgió a mi imaginación una doncella que llorando desconsolada decía oh reina por qué tu vista se obstina en contemplar ahí abajo esas sombras tristes y mutiladas tú no has hecho eso en las otras fosas si crees poder contar esas almas piensa que la fosa tiene veintidós millas de circunferencia la luna está ya debajo de nosotros el tiempo que los candelabros 96 las tres virtudes teologales la corona de oliva indica la sabiduría dante no llores todavía porque virgilio se vaya pues es preciso que descubran tus ojos lo que tu súplica reclama espíritu encarcelado dígnate aún decirnos cómo se encierra el alma en esos nudosos troncos y dime además si puedes si hay alguna que se desprenda de tales miembros entonces el tronco suspiró y aquel resoplido se convirtió en agua cayó la lluvia y los que chocan entre sí lanzando tan estridentes gritos por qué no tienes atrevimiento ni valor cuando tres mujeres benditas cuidan de ti en la corte celestial y mis palabras te prometen tanto bien 2 la clemencia divina 3 la gracia divina o más bien la gracia que enamora a tu mente hate abierto la boca hasta este punto como abrirse debía por tanto apruebo cuanto ha salido de ella mas ahora es preciso que la altísima luz corone de su gloria a los espíritus languidecer en tristes montones por aquel obscuro valle cuál yacía tendido sobre el vientre cuál sobre las espaldas unos de otros y alguno andaba a rastras por el triste camino ibamos caminando paso a paso sin decir una palabra más entonces vi un centauro lleno de ira que acudía gritando dónde está dónde está el soberbio no creo que causara mayor tristeza ver enfermo el pueblo entero de egina cuando se inficionó tanto el aire que perecieron todos los animales hasta el miserable gusano habiendo salido después los habitantes de este mundo en el que se recrea contemplando el templo que había hecho voto de visitar y espera al volver a ella huían por todas partes cuando él me dijo aquel fué el duro freno que debería contener al hombre en sus límites pero mordéis tan fácilmente el cebo que os atrae con su anzuelo el antiguo adversario sirviendoos de poco el freno o el reclamo el cielo os llama y gira en torno de la pez después le pincharon con más de cien espíritus sentados en la barquilla cantaban a coro in exitu israel de ægipto y todo lo demás es _vanita che par persona_ todo se va\n",
      "\n",
      "Bits originales: 44144\n",
      "Bits comprimidos: 34822\n",
      "Comprimido un: 78.88%\n"
     ]
    }
   ],
   "source": [
    "# Generar la tabla de frecuencias condicionales\n",
    "archivo_texto = \"La_Divina_Comedia.txt\"\n",
    "N = 3           # Número de palabras para el análisis\n",
    "\n",
    "tabla_frecuencias = generar_tabla_frecuencias_condicionales(archivo_texto, N)\n",
    "guardar_tabla_frecuencias_en_archivo(tabla_frecuencias)\n",
    "\n",
    "# Generar texto aleatorio basado en el modelo de Markov\n",
    "longitud_texto = 1000\n",
    "texto_generado = generar_texto_markov(tabla_frecuencias, longitud_texto, N)\n",
    "guardar_texto_en_archivo(texto_generado)\n",
    "\n",
    "# Comprimir y descomprimir usando LZ77\n",
    "ventana_tamano = 64  # Tamaño de la ventana\n",
    "\n",
    "# Comprimir el texto generado\n",
    "binario_comprimido = lz77_comprimir(texto_generado, ventana_tamano)\n",
    "print(\"Binario comprimido:\", binario_comprimido)\n",
    "\n",
    "# Descomprimir el texto\n",
    "texto_descomprimido = lz77_descomprimir(binario_comprimido, ventana_tamano)\n",
    "print(\"\\nTexto original:\", texto_generado)\n",
    "print(\"Texto descomprimido:\", texto_descomprimido)\n",
    "\n",
    "# Prueba con assert para verificar que los textos son iguales\n",
    "assert texto_descomprimido == texto_generado, \"El texto descomprimido no coincide con el original.\"\n",
    "\n",
    "# Calcular el índice de compresión\n",
    "bits_originales = len(utf8_a_binary(texto_generado))\n",
    "bits_comprimidos = len(binario_comprimido)\n",
    "indice_compresion = bits_comprimidos / bits_originales * 100        # porcentual\n",
    "\n",
    "print(f\"\\nBits originales: {bits_originales}\")\n",
    "print(f\"Bits comprimidos: {bits_comprimidos}\")\n",
    "print(f\"Comprimido un: {indice_compresion:.2f}%\")"
   ]
  }
 ],
 "metadata": {
  "kernelspec": {
   "display_name": "Python 3",
   "language": "python",
   "name": "python3"
  },
  "language_info": {
   "codemirror_mode": {
    "name": "ipython",
    "version": 3
   },
   "file_extension": ".py",
   "mimetype": "text/x-python",
   "name": "python",
   "nbconvert_exporter": "python",
   "pygments_lexer": "ipython3",
   "version": "3.11.9"
  }
 },
 "nbformat": 4,
 "nbformat_minor": 2
}
