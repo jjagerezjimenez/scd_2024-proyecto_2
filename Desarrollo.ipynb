{
 "cells": [
  {
   "cell_type": "code",
   "execution_count": 197,
   "metadata": {},
   "outputs": [],
   "source": [
    "import random\n",
    "import re\n",
    "from collections import defaultdict\n",
    "import math"
   ]
  },
  {
   "cell_type": "code",
   "execution_count": 198,
   "metadata": {},
   "outputs": [],
   "source": [
    "def generar_tabla_frecuencias_condicionales(archivo, N):\n",
    "    \"\"\"\n",
    "    Genera una tabla de frecuencias condicionales de palabras a partir de un archivo de texto.\n",
    "    :param archivo: Nombre del archivo de texto en formato UTF-8.\n",
    "    :param N: Número de palabras condicionantes.\n",
    "    :return: Diccionario con frecuencias condicionales.\n",
    "    \"\"\"\n",
    "    with open(archivo, 'r', encoding='utf-8') as file:\n",
    "        texto = file.read().lower()\n",
    "    \n",
    "    palabras = re.findall(r'\\b\\w+\\b', texto) # quito puntuación y divido en palabras\n",
    "    \n",
    "    # Diccionario para almacenar las frecs condicionales\n",
    "    tabla_frecuencias = defaultdict(lambda: defaultdict(int))       #Nota: Cada vez que se accede a una clave que no existe en este diccionario interno, se inicializa con 0\n",
    "\n",
    "    # Si se accede a una clave que no existe en tabla_frecuencias, se crea automáticamente un nuevo defaultdict(int).\n",
    "    # Si se accede a una clave que no existe en ese defaultdict(int), se crea un entero con valor 0.\n",
    "\n",
    "    #Tabla de frecuencias\n",
    "    for i in range(len(palabras) - N):           # crea secuencias de palabras de longitud N (condiciones) y cunta la frecuencia con la que aparecen otras palabras justo después de esas condiciones.\n",
    "        condicion = tuple(palabras[i:i + N])  # N palabras como condición\n",
    "        siguiente_palabra = palabras[i + N]\n",
    "        tabla_frecuencias[condicion][siguiente_palabra] += 1\n",
    "\n",
    "    return tabla_frecuencias\n"
   ]
  },
  {
   "cell_type": "code",
   "execution_count": 199,
   "metadata": {},
   "outputs": [],
   "source": [
    "def guardar_tabla_frecuencias_en_archivo(tabla_frecuencias, nombre_archivo=\"Tablas_Frecuencias.txt\"):\n",
    "    \"\"\"\n",
    "    Guarda la tabla de frecuencias condicionales en un archivo de texto.\n",
    "    :param tabla_frecuencias: Diccionario con frecuencias condicionales.\n",
    "    :param nombre_archivo: Nombre del archivo donde se guardarán las frecuencias.\n",
    "    \"\"\"\n",
    "    with open(nombre_archivo, 'w', encoding='utf-8') as file:\n",
    "\n",
    "        for condicion, frecuencias in tabla_frecuencias.items():\n",
    "            condicion_str = ' '.join(condicion)                     # Convertir la tupla de palabras en una cadena de texto\n",
    "            file.write(f\"Condición: {condicion_str}\\n\")\n",
    "\n",
    "            for palabra_siguiente, frecuencia in frecuencias.items():\n",
    "                file.write(f\"  {palabra_siguiente}: {frecuencia}\\n\")\n",
    "\n",
    "            file.write(\"\\n\")  # Espacio entre diferentes condiciones\n",
    "\n",
    "    print(f\"Tabla de frecuencias guardada en {nombre_archivo}\")"
   ]
  },
  {
   "cell_type": "code",
   "execution_count": 200,
   "metadata": {},
   "outputs": [],
   "source": [
    "def generar_texto_markov(tabla_frecuencias, longitud_texto, N):\n",
    "    \"\"\"\n",
    "    Genera un texto aleatorio basado en Markov.\n",
    "    :param tabla_frecuencias: tabla de frecuencias condicionales\n",
    "    :param longitud_texto: longitud del texto generado\n",
    "    :param N: número de palabras previas\n",
    "    :return: texto generado\n",
    "    \"\"\"\n",
    "    palabras_previas_estado = random.choice(list(tabla_frecuencias.keys()))     # Ver -  Elegimos aleatoriamente una condición inicial de la tabla de frecuencias y la convertimos en una lista para comenzar el texto generado.\n",
    "    texto_generado = list(palabras_previas_estado)\n",
    "\n",
    "    for _ in range(longitud_texto - N):\n",
    "        if palabras_previas_estado not in tabla_frecuencias:                # Si no hay palabras previas, cambio\n",
    "            palabras_previas_estado = random.choice(list(tabla_frecuencias.keys()))  \n",
    "\n",
    "        siguiente_palabra = random.choices(         # Utilizamos random.choices para seleccionar una palabra siguiente basada en las frecuencias\n",
    "            list(tabla_frecuencias[palabras_previas_estado].keys()), #lista de palabras siguietes y sus frecuencias\n",
    "            list(tabla_frecuencias[palabras_previas_estado].values())\n",
    "        )[0]\n",
    "        \n",
    "        texto_generado.append(siguiente_palabra)            # Ver\n",
    "        palabras_previas_estado = tuple(texto_generado[-N:])  # Actualiza el palabras previas para las próximas palabras\n",
    "    \n",
    "    return ' '.join(texto_generado)\n"
   ]
  },
  {
   "cell_type": "code",
   "execution_count": 201,
   "metadata": {},
   "outputs": [],
   "source": [
    "def guardar_texto_en_archivo(texto, nombre_archivo='Fuente_Markov.txt'):\n",
    "    \"\"\"\n",
    "    Guarda el texto generado en un archivo.\n",
    "    :param texto: el texto generado\n",
    "    :param nombre_archivo: nombre del archivo de texto donde se guardará\n",
    "    \"\"\"\n",
    "    with open(nombre_archivo, 'w', encoding='utf-8') as archivo:\n",
    "        archivo.write(texto)\n",
    "    print(f\"Texto generado guardado en {nombre_archivo}\")"
   ]
  },
  {
   "cell_type": "code",
   "execution_count": 202,
   "metadata": {},
   "outputs": [],
   "source": [
    "archivo_texto = \"La_Divina_Comedia.txt\"\n",
    "N = 3  # cadena de palabras para analizar (condicion)"
   ]
  },
  {
   "cell_type": "code",
   "execution_count": 203,
   "metadata": {},
   "outputs": [
    {
     "name": "stdout",
     "output_type": "stream",
     "text": [
      "Tabla de frecuencias guardada en Tablas_Frecuencias.txt\n"
     ]
    }
   ],
   "source": [
    "# Generar la tabla de frecuencias condicionales\n",
    "\n",
    "tabla_frecuencias = generar_tabla_frecuencias_condicionales(archivo_texto, N)\n",
    "guardar_tabla_frecuencias_en_archivo(tabla_frecuencias)"
   ]
  },
  {
   "cell_type": "code",
   "execution_count": 204,
   "metadata": {},
   "outputs": [],
   "source": [
    "# Generar texto aleatorio basado en Markov\n",
    "\n",
    "longitud_texto = 100\n",
    "texto_generado = generar_texto_markov(tabla_frecuencias, longitud_texto, N)"
   ]
  },
  {
   "cell_type": "code",
   "execution_count": 205,
   "metadata": {},
   "outputs": [
    {
     "name": "stdout",
     "output_type": "stream",
     "text": [
      "Texto generado guardado en Fuente_Markov.txt\n"
     ]
    }
   ],
   "source": [
    "guardar_texto_en_archivo(texto_generado)"
   ]
  },
  {
   "cell_type": "code",
   "execution_count": 206,
   "metadata": {},
   "outputs": [],
   "source": [
    "# Función para convertir texto a binario UTF-8\n",
    "def utf8_a_binary(texto):\n",
    "\n",
    "    # ord(c): Obtiene el valor Unicode del carácter c.\n",
    "    # format(..., '08b'): Convierte el número en una cadena binaria de 8 bits.\n",
    "\n",
    "    return ''.join(format(ord(c), '08b') for c in texto)"
   ]
  },
  {
   "attachments": {
    "image.png": {
     "image/png": "[encoded data removed]"
    }
   },
   "cell_type": "markdown",
   "metadata": {},
   "source": [
    "![image.png](attachment:image.png)"
   ]
  },
  {
   "cell_type": "code",
   "execution_count": 207,
   "metadata": {},
   "outputs": [],
   "source": [
    "# Código unario-binario para codificar la longitud de coincidencias\n",
    "def codigo_unario_binario(n):   # codifica un entero positivo n usando el código unario-binario:\n",
    "    if n == 1:\n",
    "        return '1'\n",
    "    \n",
    "    else:\n",
    "        bin_expansion = format(n, 'b')              # Expansión binaria de n\n",
    "        prefix_len = len(bin_expansion) - 1         # para calcular prefijo unario como len(bin_expansion) - 1 ceros\\                          (log2 n)\n",
    "        prefix_unary = '0' * prefix_len             # Genera 0s como prefijo unario\n",
    "        return prefix_unary + bin_expansion\n"
   ]
  },
  {
   "cell_type": "code",
   "execution_count": 208,
   "metadata": {},
   "outputs": [],
   "source": [
    "# Decodificar longitud con código unario-binario\n",
    "def decodif_unario_binario(binario, i):                # decodificar un número codificado en unario-binario desde una cadena binaria a partir de la posición i\n",
    "    prefix_length = 0\n",
    "\n",
    "    while binario[i] == '0':        # Contamos el número de ceros consecutivos para determinar prefix_length.\n",
    "        prefix_length += 1\n",
    "        i += 1\n",
    "\n",
    "    # Leer (prefix_length + 1) bits para obtener la expansión binaria\n",
    "    bin_expansion = binario[i:i + prefix_length + 1]\n",
    "    n = int(bin_expansion, 2)   # Convertimos la expansión binaria a un entero n.\n",
    "    i += prefix_length + 1      # Actualizamos i para apuntar después de los bits leídos\n",
    "\n",
    "    return n, i"
   ]
  },
  {
   "attachments": {
    "image.png": {
     "image/png": "[encoded data removed]"
    }
   },
   "cell_type": "markdown",
   "metadata": {},
   "source": [
    "![image.png](attachment:image.png)"
   ]
  },
  {
   "cell_type": "code",
   "execution_count": 209,
   "metadata": {},
   "outputs": [],
   "source": [
    "# algoritmo LZ77 - Compresión\n",
    "def lz77_comprimir(texto, ventana_tamano):\n",
    "    \n",
    "    #u offset\n",
    "    #n longi\n",
    "    #w vent\n",
    "    \n",
    "    resultado_binario = []  # Guarda el resultado comprimido en binario\n",
    "    u_bit_length = math.ceil(math.log2(ventana_tamano + 1))  # Calculamos el número de bits necesarios para representar u (el desplazamiento/offset), considerando ventana_tamano.\n",
    "\n",
    "    # (1) Codificar los primeros w símbolos sin compresión\n",
    "    for i in range(min(ventana_tamano, len(texto))):\n",
    "        literal_bin = utf8_a_binary(texto[i])\n",
    "        resultado_binario.append(literal_bin)  \n",
    "\n",
    "    # (2) A partir de aquí, aplicar la compresión\n",
    "    P = ventana_tamano              # Inicializamos el puntero P y variables para almacenar la mejor coincidencia encontrada.\n",
    "    while P < len(texto):\n",
    "        mejor_longitud = 0\n",
    "        mejor_desplazamiento = 0\n",
    "\n",
    "        # (3) Buscar la mayor coincidencia dentro de la ventana deslizante\n",
    "        ventana_inicio = max(0, P - ventana_tamano)\n",
    "        for j in range(ventana_inicio, P):\n",
    "            longitud = 0\n",
    "            while (P + longitud < len(texto)) and (texto[j + longitud] == texto[P + longitud]):     # Recorremos la ventana y comparamos caracteres para encontrar coincidencias.\n",
    "                longitud += 1\n",
    "                if j + longitud >= P:\n",
    "                    break  # Evitar salir del límite de la ventana\n",
    "            if longitud > mejor_longitud and longitud >= 2:     # Si encontramos una coincidencia mejor, actualizamos mejor_longitud y mejor_desplazamiento.\n",
    "                mejor_longitud = longitud\n",
    "                mejor_desplazamiento = P - j\n",
    "\n",
    "        # (4) Si hay coincidencia n >= 2, codificar (n, u)\n",
    "        if mejor_longitud >= 2:\n",
    "            # Codificar longitud (n) usando código unario-binario\n",
    "            longitud_bin = codigo_unario_binario(mejor_longitud)\n",
    "\n",
    "            # Codificar desplazamiento (u) usando logw bits\n",
    "            desplazamiento_bin = format(mejor_desplazamiento, f'0{u_bit_length}b')\n",
    "            resultado_binario.append(longitud_bin + desplazamiento_bin)\n",
    "\n",
    "            # Avanzar el puntero P\n",
    "            P += mejor_longitud\n",
    "\n",
    "        # Si no hay coincidencia, codificar el literal\n",
    "        else:\n",
    "            literal_bin = utf8_a_binary(texto[P])\n",
    "            resultado_binario.append('1' + literal_bin)  # Usamos '1' como indicador de literal\n",
    "            P += 1\n",
    "\n",
    "    return ''.join(resultado_binario)"
   ]
  },
  {
   "cell_type": "code",
   "execution_count": 210,
   "metadata": {},
   "outputs": [],
   "source": [
    "# algoritmo LZ77 - Descompresión\n",
    "def lz77_descomprimir(binario, ventana_tamano):\n",
    "    i = 0                                           # Inicializo el índice i para recorrer el binario.\n",
    "    resultado = []\n",
    "    u_bit_length = math.ceil(math.log2(ventana_tamano + 1))     # Calculamos u_bit_length de la misma forma que en la compresión.\n",
    "\n",
    "    # (1) Decodificar los primeros w símbolos sin compresión\n",
    "    for _ in range(ventana_tamano):\n",
    "        if i + 8 > len(binario):\n",
    "            break  # Evita exceder el límite\n",
    "\n",
    "        literal_binario = binario[i:i + 8]\n",
    "        literal = chr(int(literal_binario, 2))\n",
    "        resultado.append(literal)\n",
    "        i += 8\n",
    "\n",
    "    # (2) A partir de aquí, decodificar el resto\n",
    "    while i < len(binario):\n",
    "        # Verificamos si es un literal\n",
    "        if binario[i] == '1':\n",
    "            i += 1\n",
    "            literal_binario = binario[i:i + 8]\n",
    "            literal = chr(int(literal_binario, 2))\n",
    "            resultado.append(literal)\n",
    "            i += 8\n",
    "\n",
    "        else:\n",
    "            # Es una coincidencia\n",
    "            n, i = decodif_unario_binario(binario, i)\n",
    "            u = int(binario[i:i + u_bit_length], 2)\n",
    "            i += u_bit_length\n",
    "            # Copiar la coincidencia en el resultado\n",
    "            pos_inicio = len(resultado) - u\n",
    "            \n",
    "            for _ in range(n):\n",
    "                resultado.append(resultado[pos_inicio])\n",
    "                pos_inicio += 1\n",
    "\n",
    "    return ''.join(resultado)"
   ]
  },
  {
   "cell_type": "code",
   "execution_count": 211,
   "metadata": {},
   "outputs": [
    {
     "name": "stdout",
     "output_type": "stream",
     "text": [
      "Binario comprimido: 0110000101100010011000110110010001100001011000100110001101100100000100010000001000100000010001000\n",
      "\n",
      "Texto original: abcdabcdabcdabcdabcdabcdabcdabcd\n",
      "Texto descomprimido: abcdabcdabcdabcdabcdabcdabcdabcd\n"
     ]
    }
   ],
   "source": [
    "# Ejemplo de compresión y descompresión\n",
    "texto_prueba = 'abcdabcdabcdabcdabcdabcdabcdabcd'\n",
    "ventana_tamano = 8\n",
    "\n",
    "# Comprimir el texto\n",
    "binario_comprimido = lz77_comprimir(texto_prueba, ventana_tamano)\n",
    "print(\"Binario comprimido:\", binario_comprimido)\n",
    "\n",
    "# Descomprimir el texto\n",
    "texto_descomprimido = lz77_descomprimir(binario_comprimido, ventana_tamano)\n",
    "print(\"\\nTexto original:\", texto_prueba)\n",
    "print(\"Texto descomprimido:\", texto_descomprimido)\n",
    "\n",
    "assert texto_descomprimido == texto_prueba, \"El texto descomprimido no coincide con el de prueba\""
   ]
  },
  {
   "cell_type": "code",
   "execution_count": 212,
   "metadata": {},
   "outputs": [
    {
     "data": {
      "text/plain": [
       "97"
      ]
     },
     "execution_count": 212,
     "metadata": {},
     "output_type": "execute_result"
    }
   ],
   "source": [
    "len(binario_comprimido)"
   ]
  },
  {
   "cell_type": "code",
   "execution_count": 213,
   "metadata": {},
   "outputs": [
    {
     "data": {
      "text/plain": [
       "256"
      ]
     },
     "execution_count": 213,
     "metadata": {},
     "output_type": "execute_result"
    }
   ],
   "source": [
    "len(texto_prueba)*8"
   ]
  },
  {
   "cell_type": "code",
   "execution_count": 214,
   "metadata": {},
   "outputs": [
    {
     "name": "stdout",
     "output_type": "stream",
     "text": [
      "Binario comprimido: 0110000101100010011001100110000101100010011001000110000101100010101100011101100011011011110110010010110011001101011011000111011000100110110\n",
      "\n",
      "Texto original: abfabdabccabddfabdcbfab\n",
      "Texto descomprimido: abfabdabccabddfabdcbfab\n"
     ]
    }
   ],
   "source": [
    "texto_prueba = 'abfabdabccabddfabdcbfab'\n",
    "ventana_tamano = 8\n",
    "\n",
    "# Comprimir el texto\n",
    "binario_comprimido = lz77_comprimir(texto_prueba, ventana_tamano)\n",
    "print(\"Binario comprimido:\", binario_comprimido)\n",
    "\n",
    "# Descomprimir el texto\n",
    "texto_descomprimido = lz77_descomprimir(binario_comprimido, ventana_tamano)\n",
    "print(\"\\nTexto original:\", texto_prueba)\n",
    "print(\"Texto descomprimido:\", texto_descomprimido)\n",
    "\n",
    "assert texto_descomprimido == texto_prueba, \"El texto descomprimido no coincide con el de prueba\""
   ]
  },
  {
   "cell_type": "code",
   "execution_count": 215,
   "metadata": {},
   "outputs": [
    {
     "data": {
      "text/plain": [
       "139"
      ]
     },
     "execution_count": 215,
     "metadata": {},
     "output_type": "execute_result"
    }
   ],
   "source": [
    "len(binario_comprimido)"
   ]
  },
  {
   "cell_type": "code",
   "execution_count": 216,
   "metadata": {},
   "outputs": [
    {
     "data": {
      "text/plain": [
       "184"
      ]
     },
     "execution_count": 216,
     "metadata": {},
     "output_type": "execute_result"
    }
   ],
   "source": [
    "len(texto_prueba)*8"
   ]
  },
  {
   "cell_type": "code",
   "execution_count": 217,
   "metadata": {},
   "outputs": [
    {
     "name": "stdout",
     "output_type": "stream",
     "text": [
      "Binario comprimido: 001100010011001000110011001101000011010100110110001101110011100001100110011001100011001100011001100011001100011001100011001100011001100011001100011001100011001100011001100011001100011001100011001100011001100011001100011001100011001100011001100011001100011001100011001100011001100011001100011001100011001100011001100011001100011001100011001100011001100011001100011001100011001100011001100011001100011001100011001100011001100011001100011001100011001100011001100011001100011001100011001100011001100011001100011001100011001100011001100011001100011001100011001100011001100011001100011001100011001100011001100011001100011001100011001100011001100011001100011001100011001100011001100011001100011001100011001100011001100011001100011001100011001100011001100011001100011001100011001100011001100011001100011001100011001100011001100011001100011001100011001100011001100011001100011001100011001100011001100011001100011001100011001100011001100011001100011001100011001100011001100011001100011001100011001100011001100011001100011001100011001100011001100011001100011001100011001100011001100011001100011001100011001100011001100011001100011001100011001100011001100011001100011001100011001100011001100011001100011001100011001100011001100011001100011001100011001100011001100011001100011001100011001100011001100011001100011001100011001100011001100011001100011001100011001100011001100011001100011001100011001100011001100011001100011001100011001100011001100011001100011001100011001100011001100011001100011001100011001100011001100011001100011001100011001100011001100011001100011001100011001100011001100011001100011001100011001100011001100011001100011001100011001100011001100011001100011001100011001100011001100011001100011001100011001100011001100011001100011001100011001100011001100011001100011001100011001100011001100011001100011001100011001100011001100011001100011001100011001100011001100011001100011001100011001100011001100011001100011001100011001100011001100011001100011001100011001100011001100011001100011001100011001100011001100011001100011001100011001100011001100011001100011001100011001100011001100011001100011001100011001100011001100011001100011001100011001100011001100011001100011001100011001100011001100011001100011001100011001100011001100011001100011001100011001100011001100011001100011001100011001100011001100011001100011001100011001100011001100011001100011001100011001100011001100110110\n",
      "\n",
      "Texto original: 12345678678678678678678678678678678678678678678678678678678678678678678678678678678678678678678678678678678678678678678678678678678678678678678678678678678678678678678678678678678678678678678678678678678678678678678678678678678678678678678678678678678678678678678678678678678678678678678678678678678678678678678678678678678678678678678678678678678678678678678678678678678678678678678678678678678678678678678678678678678678678678678678678678678678678678678678678678678678678678678678678678678678678678678678678678678678678678678678678678678678678678678678678678678678678678678678678678678678678678678678678678678678678678678678678678678678678678678678678678678678678678678678678678678678678678678678678678678678678678678678678678678678678678678678678678678678678678678678678678678678678678678678678678678678678678678678678678678678678678678678678678678678678678678678678678678678678678678678678678678678678678678678678678678678678678678678678678678678678678678678678678678678678678678678678678678678678678678678678678678678678678678678678678678678678678678678678678678678678678678678678678678678678678678678678678678678678678678678678678678678678678678678678678678678678678678678678678678678678678678678678678678678678678678678678678678678678678678678678678678678678678678678678678678678678678678678678678678678678678678678678678678678678678678678678678678678678678678678678678678678678678678678678678678678678678678678678678678678678678678678678678678678678678678678678678678678678678678678678678678678678678678678678678678678678678678678678678\n",
      "Texto descomprimido: 12345678678678678678678678678678678678678678678678678678678678678678678678678678678678678678678678678678678678678678678678678678678678678678678678678678678678678678678678678678678678678678678678678678678678678678678678678678678678678678678678678678678678678678678678678678678678678678678678678678678678678678678678678678678678678678678678678678678678678678678678678678678678678678678678678678678678678678678678678678678678678678678678678678678678678678678678678678678678678678678678678678678678678678678678678678678678678678678678678678678678678678678678678678678678678678678678678678678678678678678678678678678678678678678678678678678678678678678678678678678678678678678678678678678678678678678678678678678678678678678678678678678678678678678678678678678678678678678678678678678678678678678678678678678678678678678678678678678678678678678678678678678678678678678678678678678678678678678678678678678678678678678678678678678678678678678678678678678678678678678678678678678678678678678678678678678678678678678678678678678678678678678678678678678678678678678678678678678678678678678678678678678678678678678678678678678678678678678678678678678678678678678678678678678678678678678678678678678678678678678678678678678678678678678678678678678678678678678678678678678678678678678678678678678678678678678678678678678678678678678678678678678678678678678678678678678678678678678678678678678678678678678678678678678678678678678678678678678678678678678678678678678678678678678678678678678678678678678678678678678678678678678678678678678678678678678678678678\n"
     ]
    }
   ],
   "source": [
    "texto_prueba = '12345678'+512*\"678\"\n",
    "ventana_tamano = 8\n",
    "\n",
    "# Comprimir el texto\n",
    "binario_comprimido = lz77_comprimir(texto_prueba, ventana_tamano)\n",
    "print(\"Binario comprimido:\", binario_comprimido)\n",
    "\n",
    "# Descomprimir el texto\n",
    "texto_descomprimido = lz77_descomprimir(binario_comprimido, ventana_tamano)\n",
    "print(\"\\nTexto original:\", texto_prueba)\n",
    "print(\"Texto descomprimido:\", texto_descomprimido)\n",
    "\n",
    "assert texto_descomprimido == texto_prueba, \"El texto descomprimido no coincide con el de prueba\""
   ]
  },
  {
   "cell_type": "code",
   "execution_count": 218,
   "metadata": {},
   "outputs": [
    {
     "data": {
      "text/plain": [
       "2373"
      ]
     },
     "execution_count": 218,
     "metadata": {},
     "output_type": "execute_result"
    }
   ],
   "source": [
    "len(binario_comprimido)"
   ]
  },
  {
   "cell_type": "code",
   "execution_count": 219,
   "metadata": {},
   "outputs": [
    {
     "data": {
      "text/plain": [
       "12352"
      ]
     },
     "execution_count": 219,
     "metadata": {},
     "output_type": "execute_result"
    }
   ],
   "source": [
    "len(texto_prueba)*8"
   ]
  },
  {
   "cell_type": "code",
   "execution_count": 220,
   "metadata": {},
   "outputs": [
    {
     "name": "stdout",
     "output_type": "stream",
     "text": [
      "Binario comprimido: 0011011000110111001110000011011000110111001101100011011100111000001011000001100110001100110001000110\n",
      "\n",
      "Texto original: 67867678678678678678678678678\n",
      "Texto descomprimido: 67867678678678678678678678678\n"
     ]
    }
   ],
   "source": [
    "texto_prueba = '67867678678678678678678678678'\n",
    "ventana_tamano = 8\n",
    "\n",
    "# Comprimir el texto\n",
    "binario_comprimido = lz77_comprimir(texto_prueba, ventana_tamano)\n",
    "print(\"Binario comprimido:\", binario_comprimido)\n",
    "\n",
    "# Descomprimir el texto\n",
    "texto_descomprimido = lz77_descomprimir(binario_comprimido, ventana_tamano)\n",
    "print(\"\\nTexto original:\", texto_prueba)\n",
    "print(\"Texto descomprimido:\", texto_descomprimido)\n",
    "\n",
    "assert texto_descomprimido == texto_prueba, \"El texto descomprimido no coincide con el de prueba\""
   ]
  },
  {
   "cell_type": "code",
   "execution_count": 221,
   "metadata": {},
   "outputs": [
    {
     "data": {
      "text/plain": [
       "100"
      ]
     },
     "execution_count": 221,
     "metadata": {},
     "output_type": "execute_result"
    }
   ],
   "source": [
    "len(binario_comprimido)"
   ]
  },
  {
   "cell_type": "code",
   "execution_count": 222,
   "metadata": {},
   "outputs": [
    {
     "data": {
      "text/plain": [
       "232"
      ]
     },
     "execution_count": 222,
     "metadata": {},
     "output_type": "execute_result"
    }
   ],
   "source": [
    "len(texto_prueba)*8"
   ]
  },
  {
   "cell_type": "code",
   "execution_count": 223,
   "metadata": {},
   "outputs": [
    {
     "name": "stdout",
     "output_type": "stream",
     "text": [
      "Binario comprimido: 011000010110001001100011011001000110010101111000011000010110001001100011011001000111100001100001011000100110001101100100011001010110011001111000011110000111100101100001011000100110001101100100011001010011000100110010001110000011100100110011001100110011100000110010101100110100\n",
      "\n",
      "Texto original: abcdexabcdxabcdefxxyabcde1289338abcdef4\n",
      "Texto descomprimido: abcdexabcdxabcdefxxyabcde1289338abcdef4\n"
     ]
    }
   ],
   "source": [
    "texto_prueba = 'abcdexabcdxabcdefxxyabcde1289338abcdef4'\n",
    "ventana_tamano = 32\n",
    "\n",
    "# Comprimir el texto\n",
    "binario_comprimido = lz77_comprimir(texto_prueba, ventana_tamano)\n",
    "print(\"Binario comprimido:\", binario_comprimido)\n",
    "\n",
    "# Descomprimir el texto\n",
    "texto_descomprimido = lz77_descomprimir(binario_comprimido, ventana_tamano)\n",
    "print(\"\\nTexto original:\", texto_prueba)\n",
    "print(\"Texto descomprimido:\", texto_descomprimido)\n",
    "\n",
    "assert texto_descomprimido == texto_prueba, \"El texto descomprimido no coincide con el de prueba\"\n"
   ]
  },
  {
   "cell_type": "code",
   "execution_count": 224,
   "metadata": {},
   "outputs": [
    {
     "data": {
      "text/plain": [
       "276"
      ]
     },
     "execution_count": 224,
     "metadata": {},
     "output_type": "execute_result"
    }
   ],
   "source": [
    "len(binario_comprimido)"
   ]
  },
  {
   "cell_type": "code",
   "execution_count": 225,
   "metadata": {},
   "outputs": [
    {
     "data": {
      "text/plain": [
       "312"
      ]
     },
     "execution_count": 225,
     "metadata": {},
     "output_type": "execute_result"
    }
   ],
   "source": [
    "len(texto_prueba)*8"
   ]
  },
  {
   "cell_type": "code",
   "execution_count": 226,
   "metadata": {},
   "outputs": [
    {
     "name": "stdout",
     "output_type": "stream",
     "text": [
      "Tabla de frecuencias guardada en Tablas_Frecuencias.txt\n",
      "Texto generado guardado en Fuente_Markov.txt\n",
      "Binario comprimido: 011100110110010111110001011011110111001000100000011100010111010101100101001000000110000101101100011011001110110100100000011011010110010100100000011010000110000101100010111011010110000100100000011011000110110001100101011101100110000101100100011011110010000001101000110110010010110100110110101001000100010110111001000101110111010010110010110110110110110000110111001110010000010111000010111010110110010101000010110110111001001101110110100101001100101100101110110010001001111110110001110110010110111001010111001010110000110111001001010000001001101110110010110110110001001111010110000110111001110110111110010000010111000101001100010010000001010000001101000100100010101101101000101100001100100000101100001101100010101101001101100101101110010101110100010011000101100001101100111101110101111100001101110010101100100101100001101101101010011110101100001101110001101110101111101101100100000101110010101100101101100001101101110101101001101101101010011111101110100101110101010011010101100010101100001101110100101101001101100100101101111100100000101100101101110011101110000111101101101110010101101001011010001101111001010010011101101100010011100101100101101101110101110100010011111101110101101101110010000100101100111101110010010100000010001010011011110101100101010001001101101110101111010010010100101110001101110101101100101100100000101111001101101111100100000101101110010000011101110100010001001101100100101100101101101010101100001101110010111101001010011110101101110010000011101110011011001111101100010101100001101101010010011010101101101101110101101101110101100100010100000011010011101110011101100101101100111101110101101101001101100100101100001011001000100100000101100100101101001101110010101101001101100111101101001111110011100100000101101000101100001101100011101101001010010001101101100010010100101101111010010000101101100011000111101100101101101110100100000101110101010000011101100101101110011101110001101110101101101001101100110101100101100100000101100001101101001101110010101101111101110011101101111100100000101111001100100000101101100101101001101100111101100101010001011100100000010010110011010100101110000101100101101101110101100001101110011100100000101110011010011110010001000101110100010001011101100100111101101101100001101101110010011111011010001101110000101100001010000110101100010101110010011011010101100001101100100101101000111100110101110011101101001101110100011010001101110110101101001101101101101100101101101110101110100101101111010010010101101110010001001101100001100100000010001100010000100100110111100110001011000011011011010101101100101100001101100010101110010101100001101110011100100000101100100101100101101101100100100000101110011010001101101101101101101111100100000101100011101111000101110110101101001101101001101101001010000111101101111101101110100100000010011100010011001101110001101110101101100101100100000101100001011000101101101100001000011011011000011011011001011011010011001001110111001010110100110110010001101110010110111010110111101010000010110111111110110110110000110110111001001100010110111001000111110111001010010000010111100110010000010111000001001101000101011111100100000101100011101100001101101100101101100101100001101100010011011010101100100101100101101100010111101101101100001101101101101101111010010110010011001101110100101100001101110010100100000101110011101100101101100111101110101101110010011001110010010111101101100100100000101100011010011000101101001101101110101101111100100000101110001101110101101100101100100000101110101011001000101101000101100001010000011101100101101100011101101000010010001101110000101110010101101001101101101101100101101110010010011101101100101101101110101110100010011010101100100101101001010001110101100111111101101100100000101101100101101111101110011100100000101101111101101010011000101101100001101101100100100000101100110101101111101101110101100100101101111010011001101100101101110011101110000101110101111101001010010110011011010\n",
      "\n",
      "Texto original: señor que allí me había llevado me dijo no temas pues nadie puede cerrarnos el paso que dios nos ha abierto aguárdame aquí reanima tu abatido espíritu y alimenta una grata esperanza que yo no te dejaré en este bajo mundo en seguida se dirigió hacia la orilla en un esquife airoso y ligero que apenas se entendían las palabras adhæsit pavimento anima mea 71 71 palabras del salmo cxviii con las que aquellas almas queridas nos oían andar y pues que callaban debíamos estar seguros del camino que uno ha hecho primeramente dirigí los ojos al fondo después los\n",
      "Texto descomprimido: señor que allí me había llevado me dijo no temas pues nadie puede cerrarnos el paso que dios nos ha abierto aguárdame aquí reanima tu abatido espíritu y alimenta una grata esperanza que yo no te dejaré en este bajo mundo en seguida se dirigió hacia la orilla en un esquife airoso y ligero que apenas se entendían las palabras adhæsit pavimento anima mea 71 71 palabras del salmo cxviii con las que aquellas almas queridas nos oían andar y pues que callaban debíamos estar seguros del camino que uno ha hecho primeramente dirigí los ojos al fondo después los\n",
      "\n",
      "Bits originales: 4456\n",
      "Bits comprimidos: 3891\n",
      "Comprimido un: 87.32%\n"
     ]
    }
   ],
   "source": [
    "# Generar la tabla de frecuencias condicionales\n",
    "archivo_texto = \"La_Divina_Comedia.txt\"\n",
    "N = 3           # Número de palabras para el análisis\n",
    "\n",
    "tabla_frecuencias = generar_tabla_frecuencias_condicionales(archivo_texto, N)\n",
    "guardar_tabla_frecuencias_en_archivo(tabla_frecuencias)\n",
    "\n",
    "# Generar texto aleatorio basado en el modelo de Markov\n",
    "longitud_texto = 100\n",
    "texto_generado = generar_texto_markov(tabla_frecuencias, longitud_texto, N)\n",
    "guardar_texto_en_archivo(texto_generado)\n",
    "\n",
    "# Comprimir y descomprimir usando LZ77\n",
    "ventana_tamano = 32  # Tamaño de la ventana\n",
    "\n",
    "# Comprimir el texto generado\n",
    "binario_comprimido = lz77_comprimir(texto_generado, ventana_tamano)\n",
    "print(\"Binario comprimido:\", binario_comprimido)\n",
    "\n",
    "# Descomprimir el texto\n",
    "texto_descomprimido = lz77_descomprimir(binario_comprimido, ventana_tamano)\n",
    "print(\"\\nTexto original:\", texto_generado)\n",
    "print(\"Texto descomprimido:\", texto_descomprimido)\n",
    "\n",
    "# Prueba con assert para verificar que los textos son iguales\n",
    "assert texto_descomprimido == texto_generado, \"El texto descomprimido no coincide con el original.\"\n",
    "\n",
    "# Calcular el índice de compresión\n",
    "bits_originales = len(utf8_a_binary(texto_generado))\n",
    "bits_comprimidos = len(binario_comprimido)\n",
    "indice_compresion = bits_comprimidos / bits_originales * 100        # porcentual\n",
    "\n",
    "print(f\"\\nBits originales: {bits_originales}\")\n",
    "print(f\"Bits comprimidos: {bits_comprimidos}\")\n",
    "print(f\"Comprimido un: {indice_compresion:.2f}%\")"
   ]
  }
 ],
 "metadata": {
  "kernelspec": {
   "display_name": "Python 3",
   "language": "python",
   "name": "python3"
  },
  "language_info": {
   "codemirror_mode": {
    "name": "ipython",
    "version": 3
   },
   "file_extension": ".py",
   "mimetype": "text/x-python",
   "name": "python",
   "nbconvert_exporter": "python",
   "pygments_lexer": "ipython3",
   "version": "3.11.9"
  }
 },
 "nbformat": 4,
 "nbformat_minor": 2
}
