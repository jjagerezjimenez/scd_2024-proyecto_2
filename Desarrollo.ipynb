{
 "cells": [
  {
   "cell_type": "code",
   "execution_count": 83,
   "metadata": {},
   "outputs": [],
   "source": [
    "import random\n",
    "import re\n",
    "from collections import defaultdict"
   ]
  },
  {
   "cell_type": "code",
   "execution_count": 84,
   "metadata": {},
   "outputs": [],
   "source": [
    "def generar_tabla_frecuencias_condicionales(archivo, N=1):\n",
    "    \"\"\"\n",
    "    Genera una tabla de frecuencias condicionales de palabras a partir de un archivo de texto.\n",
    "    :param archivo: Nombre del archivo de texto en formato UTF-8.\n",
    "    :param N: Número de palabras condicionantes.\n",
    "    :return: Diccionario con frecuencias condicionales.\n",
    "    \"\"\"\n",
    "    with open(archivo, 'r', encoding='utf-8') as file:\n",
    "        texto = file.read().lower()\n",
    "    \n",
    "    palabras = re.findall(r'\\b\\w+\\b', texto) # quito puntuación y divido en palabras\n",
    "    \n",
    "    # Diccionario para almacenar las frecs condicionales\n",
    "    tabla_frecuencias = defaultdict(lambda: defaultdict(int))       #Nota: Cada vez que se accede a una clave que no existe en este diccionario interno, se inicializa con 0\n",
    "\n",
    "    # Si se accede a una clave que no existe en tabla_frecuencias, se crea automáticamente un nuevo defaultdict(int).\n",
    "    # Si se accede a una clave que no existe en ese defaultdict(int), se crea un entero con valor 0.\n",
    "\n",
    "    #Tabla de frecuencias\n",
    "    for i in range(len(palabras) - N):           # crea secuencias de palabras de longitud N (condiciones) y cunta la frecuencia con la que aparecen otras palabras justo después de esas condiciones.\n",
    "        condicion = tuple(palabras[i:i + N])  # N palabras como condición\n",
    "        siguiente_palabra = palabras[i + N]\n",
    "        tabla_frecuencias[condicion][siguiente_palabra] += 1\n",
    "\n",
    "    return tabla_frecuencias\n"
   ]
  },
  {
   "cell_type": "code",
   "execution_count": 85,
   "metadata": {},
   "outputs": [],
   "source": [
    "def guardar_tabla_frecuencias_en_archivo(tabla_frecuencias, nombre_archivo=\"Tablas_Frecuencias.txt\"):\n",
    "    \"\"\"\n",
    "    Guarda la tabla de frecuencias condicionales en un archivo de texto.\n",
    "    :param tabla_frecuencias: Diccionario con frecuencias condicionales.\n",
    "    :param nombre_archivo: Nombre del archivo donde se guardarán las frecuencias.\n",
    "    \"\"\"\n",
    "    with open(nombre_archivo, 'w', encoding='utf-8') as file:\n",
    "\n",
    "        for condicion, frecuencias in tabla_frecuencias.items():\n",
    "            condicion_str = ' '.join(condicion)                     # Convertir la tupla de palabras en una cadena de texto\n",
    "            file.write(f\"Condición: {condicion_str}\\n\")\n",
    "\n",
    "            for palabra_siguiente, frecuencia in frecuencias.items():\n",
    "                file.write(f\"  {palabra_siguiente}: {frecuencia}\\n\")\n",
    "\n",
    "            file.write(\"\\n\")  # Espacio entre diferentes condiciones\n",
    "\n",
    "    print(f\"Tabla de frecuencias guardada en {nombre_archivo}\")"
   ]
  },
  {
   "cell_type": "code",
   "execution_count": 86,
   "metadata": {},
   "outputs": [],
   "source": [
    "def generar_texto_markov(tabla_frecuencias, longitud_texto, N=1):\n",
    "    \"\"\"\n",
    "    Genera un texto aleatorio basado en Markov.\n",
    "    :param tabla_frecuencias: tabla de frecuencias condicionales\n",
    "    :param longitud_texto: longitud del texto generado\n",
    "    :param N: número de palabras previas\n",
    "    :return: texto generado\n",
    "    \"\"\"\n",
    "    palabras_previas_estado = random.choice(list(tabla_frecuencias.keys()))     # Ver\n",
    "    texto_generado = list(palabras_previas_estado)\n",
    "\n",
    "    for _ in range(longitud_texto - N):\n",
    "        if palabras_previas_estado not in tabla_frecuencias:                # Si no hay palabras previas, cambio\n",
    "            palabras_previas_estado = random.choice(list(tabla_frecuencias.keys()))  \n",
    "\n",
    "        siguiente_palabra = random.choices(\n",
    "            list(tabla_frecuencias[palabras_previas_estado].keys()), \n",
    "            list(tabla_frecuencias[palabras_previas_estado].values())\n",
    "        )[0]\n",
    "        \n",
    "        texto_generado.append(siguiente_palabra)            # Ver\n",
    "        palabras_previas_estado = tuple(texto_generado[-N:])  # Actualiza el palabras previas para las próximas palabras\n",
    "    \n",
    "    return ' '.join(texto_generado)\n"
   ]
  },
  {
   "cell_type": "code",
   "execution_count": 87,
   "metadata": {},
   "outputs": [],
   "source": [
    "def guardar_texto_en_archivo(texto, nombre_archivo='Fuente_Markov.txt'):\n",
    "    \"\"\"\n",
    "    Guarda el texto generado en un archivo.\n",
    "    :param texto: el texto generado\n",
    "    :param nombre_archivo: nombre del archivo de texto donde se guardará\n",
    "    \"\"\"\n",
    "    with open(nombre_archivo, 'w', encoding='utf-8') as archivo:\n",
    "        archivo.write(texto)\n",
    "    print(f\"Texto generado guardado en {nombre_archivo}\")"
   ]
  },
  {
   "cell_type": "code",
   "execution_count": 88,
   "metadata": {},
   "outputs": [],
   "source": [
    "archivo_texto = \"La_Divina_Comedia.txt\"\n",
    "N = 3  # cadena de palabras para analizar (condicion)"
   ]
  },
  {
   "cell_type": "code",
   "execution_count": 89,
   "metadata": {},
   "outputs": [
    {
     "name": "stdout",
     "output_type": "stream",
     "text": [
      "Tabla de frecuencias guardada en Tablas_Frecuencias.txt\n"
     ]
    }
   ],
   "source": [
    "# Generar la tabla de frecuencias condicionales\n",
    "\n",
    "tabla_frecuencias = generar_tabla_frecuencias_condicionales(archivo_texto, N)\n",
    "guardar_tabla_frecuencias_en_archivo(tabla_frecuencias)"
   ]
  },
  {
   "cell_type": "code",
   "execution_count": 90,
   "metadata": {},
   "outputs": [],
   "source": [
    "# Generar texto aleatorio basado en Markov\n",
    "\n",
    "longitud_texto = 100\n",
    "texto_generado = generar_texto_markov(tabla_frecuencias, longitud_texto, N)"
   ]
  },
  {
   "cell_type": "code",
   "execution_count": 91,
   "metadata": {},
   "outputs": [
    {
     "name": "stdout",
     "output_type": "stream",
     "text": [
      "Texto generado guardado en Fuente_Markov.txt\n"
     ]
    }
   ],
   "source": [
    "guardar_texto_en_archivo(texto_generado)"
   ]
  },
  {
   "cell_type": "code",
   "execution_count": 92,
   "metadata": {},
   "outputs": [],
   "source": [
    "def utf8_a_binario(texto):\n",
    "    \"\"\"\n",
    "    Convierte una cadena de texto a su representación binaria usando codificación UTF-8.\n",
    "    \"\"\"\n",
    "    return ''.join(format(byte, '08b') for byte in texto.encode('utf-8'))"
   ]
  },
  {
   "cell_type": "code",
   "execution_count": 93,
   "metadata": {},
   "outputs": [],
   "source": [
    "def codigo_unario_binario(longitud):        # El código unario es '1' repetido (longitud - 1) veces seguido de '0'.\n",
    "    \"\"\"\n",
    "    Codifica la longitud usando el código unario-binario.\n",
    "    \"\"\"\n",
    "    if longitud == 1:\n",
    "        return '0'  # Caso especial, la longitud 1 se representa con solo un '0'\n",
    "    else:\n",
    "        unario = '1' * (longitud - 1) + '0'\n",
    "        return unario"
   ]
  },
  {
   "cell_type": "code",
   "execution_count": 94,
   "metadata": {},
   "outputs": [],
   "source": [
    "def lz77_comprimir(texto, ventana_tamano=8, buffer_tamano=32):      \n",
    "    \"\"\"\n",
    "    Implementa la compresión LZ77 y genera una cadena de bits (y un metodo visual de comprobacion).\n",
    "    :param texto: cadena de caracteres de entrada\n",
    "    :param ventana_tamano: tamaño de la ventana de búsqueda (en este caso prubo 8)\n",
    "    :param buffer_tamano: tamaño del buffer de previsualización\n",
    "    :return: cadena de unos y ceros (binaria) representando la compresión\n",
    "    \"\"\"\n",
    "    i = 0\n",
    "    resultado_binario = []  # Guarda el resultado comprimido en binario\n",
    "    resultado_visual = []   # Guarda la visualización del proceso de compresión\n",
    "    \n",
    "    while i < len(texto):\n",
    "\n",
    "        mejor_longitud = 0\n",
    "        mejor_desplazamiento = 0\n",
    "        ventana_inicio = max(0, i - ventana_tamano)  # La ventana se mueve con un tamaño de 8\n",
    "        \n",
    "       \n",
    "        # Busca la mejor \"coincidencia\" en la ventana\n",
    "        for j in range(ventana_inicio, i):\n",
    "\n",
    "            longitud = 0\n",
    "\n",
    "            while (longitud < buffer_tamano and i + longitud < len(texto) and\n",
    "                   texto[j + longitud] == texto[i + longitud]):\n",
    "                longitud += 1\n",
    "\n",
    "            if longitud > mejor_longitud:\n",
    "                mejor_longitud = longitud\n",
    "                mejor_desplazamiento = i - j\n",
    "\n",
    "\n",
    "\n",
    "        # Codifica la coincidencia o literal\n",
    "        if mejor_longitud >= 3:\n",
    "\n",
    "            # Coincidencia\n",
    "            desplazamiento_bin = format(mejor_desplazamiento, '03b')  # 3 bits para el desplazamiento en la ventana\n",
    "            longitud_bin = codigo_unario_binario(mejor_longitud)\n",
    "            resultado_binario.append(longitud_bin + desplazamiento_bin)\n",
    "            \n",
    "            # Comprobación visual\n",
    "            resultado_visual.append(f\"Coincidencia: '{texto[i:i+mejor_longitud]}'(longitud={mejor_longitud}, offset={mejor_desplazamiento}) -> Binario: {longitud_bin} {desplazamiento_bin}\")\n",
    "            \n",
    "            i += mejor_longitud\n",
    "        \n",
    "        else:\n",
    "            # Codificar literal en UTF-8\n",
    "            literal_bin = utf8_a_binario(texto[i])\n",
    "            resultado_binario.append(literal_bin)\n",
    "            \n",
    "            # Comprobación visual\n",
    "            resultado_visual.append(f\"Literal: '{texto[i]}' -> Binario: {literal_bin}\")\n",
    "            \n",
    "            i += 1\n",
    "\n",
    "    for linea in resultado_visual:  # Muestrta la comprobación visual del proceso\n",
    "        print(linea)\n",
    "\n",
    "    return ''.join(resultado_binario)"
   ]
  },
  {
   "cell_type": "code",
   "execution_count": 95,
   "metadata": {},
   "outputs": [],
   "source": [
    "def lz77_descomprimir(binario, ventana_tamano=8):\n",
    "    \"\"\"\n",
    "    Implementa la descompresión LZ77 a partir de una cadena de bits.\n",
    "    :param binario: cadena binaria comprimida con LZ77\n",
    "    :param ventana_tamano: tamaño de la ventana de búsqueda (en este caso pruebo 8)\n",
    "    :return: cadena de caracteres descomprimida\n",
    "    \"\"\"\n",
    "    i = 0\n",
    "    resultado = []\n",
    "    \n",
    "    while i < len(binario):\n",
    "\n",
    "        if binario[i] == '0':  # Esto indica el caso de un literal\n",
    "\n",
    "            literal_binario = binario[i:i + 8]\n",
    "            literal = chr(int(literal_binario, 2))\n",
    "            resultado.append(literal)\n",
    "            i += 8\n",
    "\n",
    "        else:  # Esto indica una coincidencia de bits\n",
    "\n",
    "            longitud = 1\n",
    "\n",
    "            while binario[i] == '1':\n",
    "                longitud += 1\n",
    "                i += 1\n",
    "            i += 1          # Ver - Soluciona error - salta el '0' que marca el final de la parte unaria\n",
    "            desplazamiento = int(binario[i:i + 3], 2)\n",
    "            i += 3\n",
    "\n",
    "            pos_inicio = len(resultado) - desplazamiento # # Agregar la \"coincidencia\" al resultado\n",
    "            \n",
    "            for _ in range(longitud):\n",
    "                resultado.append(resultado[pos_inicio])\n",
    "                pos_inicio += 1\n",
    "    \n",
    "    return ''.join(resultado)"
   ]
  },
  {
   "cell_type": "code",
   "execution_count": 96,
   "metadata": {},
   "outputs": [
    {
     "name": "stdout",
     "output_type": "stream",
     "text": [
      "Literal: 'a' -> Binario: 01100001\n",
      "Literal: 'b' -> Binario: 01100010\n",
      "Literal: 'c' -> Binario: 01100011\n",
      "Coincidencia: 'abcabcabcabcabc'(longitud=15, offset=3) -> Binario: 111111111111110 011\n",
      "\n",
      "Texto original: abcabcabcabcabcabc\n",
      "Texto descomprimido: abcabcabcabcabcabc\n"
     ]
    }
   ],
   "source": [
    "texto_prueba = 'abcabcabcabcabcabc'\n",
    "binario_comprimido = lz77_comprimir(texto_prueba)\n",
    "texto_descomprimido = lz77_descomprimir(binario_comprimido)\n",
    "\n",
    "print(\"\\nTexto original:\", texto_prueba)\n",
    "print(\"Texto descomprimido:\", texto_descomprimido)"
   ]
  }
 ],
 "metadata": {
  "kernelspec": {
   "display_name": "Python 3",
   "language": "python",
   "name": "python3"
  },
  "language_info": {
   "codemirror_mode": {
    "name": "ipython",
    "version": 3
   },
   "file_extension": ".py",
   "mimetype": "text/x-python",
   "name": "python",
   "nbconvert_exporter": "python",
   "pygments_lexer": "ipython3",
   "version": "3.11.9"
  }
 },
 "nbformat": 4,
 "nbformat_minor": 2
}
