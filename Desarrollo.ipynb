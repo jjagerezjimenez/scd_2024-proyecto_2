{
 "cells": [
  {
   "cell_type": "code",
   "execution_count": 406,
   "metadata": {},
   "outputs": [],
   "source": [
    "import random\n",
    "import re\n",
    "from collections import defaultdict\n",
    "import math"
   ]
  },
  {
   "cell_type": "code",
   "execution_count": 407,
   "metadata": {},
   "outputs": [],
   "source": [
    "def generar_tabla_frecuencias_condicionales(archivo, N):\n",
    "    \"\"\"\n",
    "    Genera una tabla de frecuencias condicionales de palabras a partir de un archivo de texto.\n",
    "    :param archivo: Nombre del archivo de texto en formato UTF-8.\n",
    "    :param N: Número de palabras condicionantes.\n",
    "    :return: Diccionario con frecuencias condicionales.\n",
    "    \"\"\"\n",
    "    with open(archivo, 'r', encoding='utf-8') as file:\n",
    "        texto = file.read().lower()\n",
    "    \n",
    "    palabras = re.findall(r'\\b\\w+\\b', texto) # quito puntuación y divido en palabras\n",
    "    \n",
    "    # Diccionario para almacenar las frecs condicionales\n",
    "    tabla_frecuencias = defaultdict(lambda: defaultdict(int))       #Nota: Cada vez que se accede a una clave que no existe en este diccionario interno, se inicializa con 0\n",
    "\n",
    "    # Si se accede a una clave que no existe en tabla_frecuencias, se crea automáticamente un nuevo defaultdict(int).\n",
    "    # Si se accede a una clave que no existe en ese defaultdict(int), se crea un entero con valor 0.\n",
    "\n",
    "    #Tabla de frecuencias\n",
    "    for i in range(len(palabras) - N):           # crea secuencias de palabras de longitud N (condiciones) y cunta la frecuencia con la que aparecen otras palabras justo después de esas condiciones.\n",
    "        condicion = tuple(palabras[i:i + N])  # N palabras como condición\n",
    "        siguiente_palabra = palabras[i + N]\n",
    "        tabla_frecuencias[condicion][siguiente_palabra] += 1\n",
    "\n",
    "    return tabla_frecuencias\n"
   ]
  },
  {
   "cell_type": "code",
   "execution_count": 408,
   "metadata": {},
   "outputs": [],
   "source": [
    "def guardar_tabla_frecuencias_en_archivo(tabla_frecuencias, nombre_archivo=\"Tablas_Frecuencias.txt\"):\n",
    "    \"\"\"\n",
    "    Guarda la tabla de frecuencias condicionales en un archivo de texto.\n",
    "    :param tabla_frecuencias: Diccionario con frecuencias condicionales.\n",
    "    :param nombre_archivo: Nombre del archivo donde se guardarán las frecuencias.\n",
    "    \"\"\"\n",
    "    with open(nombre_archivo, 'w', encoding='utf-8') as file:\n",
    "\n",
    "        for condicion, frecuencias in tabla_frecuencias.items():\n",
    "            condicion_str = ' '.join(condicion)                     # Convertir la tupla de palabras en una cadena de texto\n",
    "            file.write(f\"Condición: {condicion_str}\\n\")\n",
    "\n",
    "            for palabra_siguiente, frecuencia in frecuencias.items():\n",
    "                file.write(f\"  {palabra_siguiente}: {frecuencia}\\n\")\n",
    "\n",
    "            file.write(\"\\n\")  # Espacio entre diferentes condiciones\n",
    "\n",
    "    print(f\"Tabla de frecuencias guardada en {nombre_archivo}\")"
   ]
  },
  {
   "cell_type": "code",
   "execution_count": 409,
   "metadata": {},
   "outputs": [],
   "source": [
    "def generar_texto_markov(tabla_frecuencias, longitud_texto, N):\n",
    "    \"\"\"\n",
    "    Genera un texto aleatorio basado en Markov.\n",
    "    :param tabla_frecuencias: tabla de frecuencias condicionales\n",
    "    :param longitud_texto: longitud del texto generado\n",
    "    :param N: número de palabras previas\n",
    "    :return: texto generado\n",
    "    \"\"\"\n",
    "    palabras_previas_estado = random.choice(list(tabla_frecuencias.keys()))     # Ver -  Elegimos aleatoriamente una condición inicial de la tabla de frecuencias y la convertimos en una lista para comenzar el texto generado.\n",
    "    texto_generado = list(palabras_previas_estado)\n",
    "\n",
    "    for _ in range(longitud_texto - N):\n",
    "        if palabras_previas_estado not in tabla_frecuencias:                # Si no hay palabras previas, cambio\n",
    "            palabras_previas_estado = random.choice(list(tabla_frecuencias.keys()))  \n",
    "\n",
    "        siguiente_palabra = random.choices(         # Utilizamos random.choices para seleccionar una palabra siguiente basada en las frecuencias\n",
    "            list(tabla_frecuencias[palabras_previas_estado].keys()), #lista de palabras siguietes y sus frecuencias\n",
    "            list(tabla_frecuencias[palabras_previas_estado].values())\n",
    "        )[0]\n",
    "        \n",
    "        texto_generado.append(siguiente_palabra)            # Ver\n",
    "        palabras_previas_estado = tuple(texto_generado[-N:])  # Actualiza el palabras previas para las próximas palabras\n",
    "    \n",
    "    return ' '.join(texto_generado)\n"
   ]
  },
  {
   "cell_type": "code",
   "execution_count": 410,
   "metadata": {},
   "outputs": [],
   "source": [
    "def guardar_texto_en_archivo(texto, nombre_archivo='Fuente_Markov.txt'):\n",
    "    \"\"\"\n",
    "    Guarda el texto generado en un archivo.\n",
    "    :param texto: el texto generado\n",
    "    :param nombre_archivo: nombre del archivo de texto donde se guardará\n",
    "    \"\"\"\n",
    "    with open(nombre_archivo, 'w', encoding='utf-8') as archivo:\n",
    "        archivo.write(texto)\n",
    "    print(f\"Texto generado guardado en {nombre_archivo}\")"
   ]
  },
  {
   "cell_type": "code",
   "execution_count": 411,
   "metadata": {},
   "outputs": [],
   "source": [
    "archivo_texto = \"La_Divina_Comedia.txt\"\n",
    "N = 3  # cadena de palabras para analizar (condicion)"
   ]
  },
  {
   "cell_type": "code",
   "execution_count": 412,
   "metadata": {},
   "outputs": [
    {
     "name": "stdout",
     "output_type": "stream",
     "text": [
      "Tabla de frecuencias guardada en Tablas_Frecuencias.txt\n"
     ]
    }
   ],
   "source": [
    "# Generar la tabla de frecuencias condicionales\n",
    "\n",
    "tabla_frecuencias = generar_tabla_frecuencias_condicionales(archivo_texto, N)\n",
    "guardar_tabla_frecuencias_en_archivo(tabla_frecuencias)"
   ]
  },
  {
   "cell_type": "code",
   "execution_count": 413,
   "metadata": {},
   "outputs": [],
   "source": [
    "# Generar texto aleatorio basado en Markov\n",
    "\n",
    "longitud_texto = 100\n",
    "texto_generado = generar_texto_markov(tabla_frecuencias, longitud_texto, N)"
   ]
  },
  {
   "cell_type": "code",
   "execution_count": 414,
   "metadata": {},
   "outputs": [
    {
     "name": "stdout",
     "output_type": "stream",
     "text": [
      "Texto generado guardado en Fuente_Markov.txt\n"
     ]
    }
   ],
   "source": [
    "guardar_texto_en_archivo(texto_generado)"
   ]
  },
  {
   "cell_type": "code",
   "execution_count": 415,
   "metadata": {},
   "outputs": [],
   "source": [
    "# Función para convertir texto a binario UTF-8\n",
    "def utf8_a_binary(texto):\n",
    "\n",
    "    # ord(c): Obtiene el valor Unicode del carácter c.\n",
    "    # format(..., '08b'): Convierte el número en una cadena binaria de 8 bits.\n",
    "\n",
    "    return ''.join(format(ord(c), '08b') for c in texto)"
   ]
  },
  {
   "cell_type": "code",
   "execution_count": 416,
   "metadata": {},
   "outputs": [],
   "source": [
    "# Código unario-binario para codificar la longitud de coincidencias\n",
    "def codigo_unario_binario(n):   # codifica un entero positivo n usando el código unario-binario:\n",
    "    if n == 1:\n",
    "        return '1'\n",
    "    \n",
    "    else:\n",
    "        bin_expansion = format(n, 'b')              # Expansión binaria de n\n",
    "        prefix_len = len(bin_expansion) - 1         # calculo prefijo unario como len(bin_expansion) - 1 ceros\\                          (log2 n)\n",
    "        prefix_unary = '0' * prefix_len             # Genera 0s como prefijo unario\n",
    "        return prefix_unary + bin_expansion\n"
   ]
  },
  {
   "cell_type": "code",
   "execution_count": 417,
   "metadata": {},
   "outputs": [],
   "source": [
    "# Decodificar longitud con código unario-binario\n",
    "def decodif_unario_binario(binario, i):                # decodificar un número codificado en unario-binario desde una cadena binaria a partir de la posición i\n",
    "    prefix_length = 0\n",
    "\n",
    "    while binario[i] == '0':        # Contamos el número de ceros consecutivos para determinar prefix_length.\n",
    "        prefix_length += 1\n",
    "        i += 1\n",
    "\n",
    "    # Leer (prefix_length + 1) bits para obtener la expansión binaria\n",
    "    bin_expansion = binario[i:i + prefix_length + 1]\n",
    "    n = int(bin_expansion, 2)   # Convertimos la expansión binaria a un entero n.\n",
    "    i += prefix_length + 1      # Actualizamos i para apuntar después de los bits leídos\n",
    "\n",
    "    return n, i"
   ]
  },
  {
   "cell_type": "code",
   "execution_count": 418,
   "metadata": {},
   "outputs": [],
   "source": [
    "# algoritmo LZ77 - Compresión\n",
    "def lz77_comprimir(texto, ventana_tamano):\n",
    "    resultado_binario = []  # Guarda el resultado comprimido en binario\n",
    "    u_bit_length = math.ceil(math.log2(ventana_tamano + 1))  # Calculamos el número de bits necesarios para representar u (el desplazamiento/offset), considerando ventana_tamano.\n",
    "\n",
    "    # (1) Codificar los primeros w símbolos sin compresión\n",
    "    for i in range(min(ventana_tamano, len(texto))):\n",
    "        literal_bin = utf8_a_binary(texto[i])\n",
    "        resultado_binario.append(literal_bin)  \n",
    "\n",
    "    # (2) A partir de aquí, aplicar la compresión\n",
    "    P = ventana_tamano              # Inicializamos el puntero P y variables para almacenar la mejor coincidencia encontrada.\n",
    "    while P < len(texto):\n",
    "        mejor_longitud = 0\n",
    "        mejor_desplazamiento = 0\n",
    "\n",
    "        # (3) Buscar la mayor coincidencia dentro de la ventana deslizante\n",
    "        ventana_inicio = max(0, P - ventana_tamano)\n",
    "        for j in range(ventana_inicio, P):\n",
    "            longitud = 0\n",
    "            while (P + longitud < len(texto)) and (texto[j + longitud] == texto[P + longitud]):     # Recorremos la ventana y comparamos caracteres para encontrar coincidencias.\n",
    "                longitud += 1\n",
    "                if j + longitud >= P:\n",
    "                    break  # Evitar salir del límite de la ventana\n",
    "            if longitud > mejor_longitud and longitud >= 2:     # Si encontramos una coincidencia mejor, actualizamos mejor_longitud y mejor_desplazamiento.\n",
    "                mejor_longitud = longitud\n",
    "                mejor_desplazamiento = P - j\n",
    "\n",
    "        # (4) Si hay coincidencia n >= 2, codificar (n, u)\n",
    "        if mejor_longitud >= 2:\n",
    "            # Codificar longitud (n) usando código unario-binario\n",
    "            longitud_bin = codigo_unario_binario(mejor_longitud)\n",
    "\n",
    "            # Codificar desplazamiento (u) usando logw bits\n",
    "            desplazamiento_bin = format(mejor_desplazamiento, f'0{u_bit_length}b')\n",
    "            resultado_binario.append(longitud_bin + desplazamiento_bin)\n",
    "\n",
    "            # Avanzar el puntero P\n",
    "            P += mejor_longitud\n",
    "\n",
    "        # Si no hay coincidencia, codificar el literal\n",
    "        else:\n",
    "            literal_bin = utf8_a_binary(texto[P])\n",
    "            resultado_binario.append('1' + literal_bin)  # Usamos '1' como indicador de literal\n",
    "            P += 1\n",
    "\n",
    "    return ''.join(resultado_binario)"
   ]
  },
  {
   "cell_type": "code",
   "execution_count": 419,
   "metadata": {},
   "outputs": [],
   "source": [
    "# algoritmo LZ77 - Descompresión\n",
    "def lz77_descomprimir(binario, ventana_tamano):\n",
    "    i = 0                                           # Inicializo el índice i para recorrer el binario.\n",
    "    resultado = []\n",
    "    u_bit_length = math.ceil(math.log2(ventana_tamano + 1))     # Calculamos u_bit_length de la misma forma que en la compresión.\n",
    "\n",
    "    # (1) Decodificar los primeros w símbolos sin compresión\n",
    "    for _ in range(ventana_tamano):\n",
    "        if i + 8 > len(binario):\n",
    "            break  # Evita exceder el límite\n",
    "\n",
    "        literal_binario = binario[i:i + 8]\n",
    "        literal = chr(int(literal_binario, 2))\n",
    "        resultado.append(literal)\n",
    "        i += 8\n",
    "\n",
    "    # (2) A partir de aquí, decodificar el resto\n",
    "    while i < len(binario):\n",
    "        # Verificamos si es un literal\n",
    "        if binario[i] == '1':\n",
    "            i += 1\n",
    "            literal_binario = binario[i:i + 8]\n",
    "            literal = chr(int(literal_binario, 2))\n",
    "            resultado.append(literal)\n",
    "            i += 8\n",
    "\n",
    "        else:\n",
    "            # Es una coincidencia\n",
    "            n, i = decodif_unario_binario(binario, i)\n",
    "            u = int(binario[i:i + u_bit_length], 2)\n",
    "            i += u_bit_length\n",
    "            # Copiar la coincidencia en el resultado\n",
    "            pos_inicio = len(resultado) - u\n",
    "            \n",
    "            for _ in range(n):\n",
    "                resultado.append(resultado[pos_inicio])\n",
    "                pos_inicio += 1\n",
    "\n",
    "    return ''.join(resultado)"
   ]
  },
  {
   "cell_type": "code",
   "execution_count": 420,
   "metadata": {},
   "outputs": [
    {
     "name": "stdout",
     "output_type": "stream",
     "text": [
      "Binario comprimido: 0110000101100010011000110110010001100001011000100110001101100100000100010000001000100000010001000\n",
      "\n",
      "Texto original: abcdabcdabcdabcdabcdabcdabcdabcd\n",
      "Texto descomprimido: abcdabcdabcdabcdabcdabcdabcdabcd\n"
     ]
    }
   ],
   "source": [
    "# Ejemplo de compresión y descompresión\n",
    "texto_prueba = 'abcdabcdabcdabcdabcdabcdabcdabcd'\n",
    "ventana_tamano = 8\n",
    "\n",
    "# Comprimir el texto\n",
    "binario_comprimido = lz77_comprimir(texto_prueba, ventana_tamano)\n",
    "print(\"Binario comprimido:\", binario_comprimido)\n",
    "\n",
    "# Descomprimir el texto\n",
    "texto_descomprimido = lz77_descomprimir(binario_comprimido, ventana_tamano)\n",
    "print(\"\\nTexto original:\", texto_prueba)\n",
    "print(\"Texto descomprimido:\", texto_descomprimido)"
   ]
  },
  {
   "cell_type": "code",
   "execution_count": 421,
   "metadata": {},
   "outputs": [
    {
     "name": "stdout",
     "output_type": "stream",
     "text": [
      "Binario comprimido: 0110000101100010011001100110000101100010011001000110000101100010101100011101100011011011110110010010110011001101011011000111011000100110110\n",
      "\n",
      "Texto original: abfabdabccabddfabdcbfab\n",
      "Texto descomprimido: abfabdabccabddfabdcbfab\n"
     ]
    }
   ],
   "source": [
    "texto_prueba = 'abfabdabccabddfabdcbfab'\n",
    "ventana_tamano = 8\n",
    "\n",
    "# Comprimir el texto\n",
    "binario_comprimido = lz77_comprimir(texto_prueba, ventana_tamano)\n",
    "print(\"Binario comprimido:\", binario_comprimido)\n",
    "\n",
    "# Descomprimir el texto\n",
    "texto_descomprimido = lz77_descomprimir(binario_comprimido, ventana_tamano)\n",
    "print(\"\\nTexto original:\", texto_prueba)\n",
    "print(\"Texto descomprimido:\", texto_descomprimido)"
   ]
  },
  {
   "cell_type": "code",
   "execution_count": 422,
   "metadata": {},
   "outputs": [
    {
     "data": {
      "text/plain": [
       "139"
      ]
     },
     "execution_count": 422,
     "metadata": {},
     "output_type": "execute_result"
    }
   ],
   "source": [
    "len(binario_comprimido)"
   ]
  },
  {
   "cell_type": "code",
   "execution_count": 423,
   "metadata": {},
   "outputs": [
    {
     "data": {
      "text/plain": [
       "184"
      ]
     },
     "execution_count": 423,
     "metadata": {},
     "output_type": "execute_result"
    }
   ],
   "source": [
    "len(texto_prueba)*8"
   ]
  },
  {
   "cell_type": "code",
   "execution_count": 424,
   "metadata": {},
   "outputs": [
    {
     "name": "stdout",
     "output_type": "stream",
     "text": [
      "Binario comprimido: 001100010011001000110011001101000011010100110110001101110011100001100110011001100011001100011001100011001100011001100011001100011001100011001100011001100011001100011001100011001100011001100011001100011001100011001100011001100011001100011001100011001100011001100011001100011001100011001100011001100011001100011001100011001100011001100011001100011001100011001100011001100011001100011001100011001100011001100011001100011001100011001100011001100011001100011001100011001100011001100011001100011001100011001100011001100011001100011001100011001100011001100011001100011001100011001100011001100011001100011001100011001100011001100011001100011001100011001100011001100011001100011001100011001100011001100011001100011001100011001100011001100011001100011001100011001100011001100011001100011001100011001100011001100011001100011001100011001100011001100011001100011001100011001100011001100011001100011001100011001100011001100011001100011001100011001100011001100011001100011001100011001100011001100011001100011001100011001100011001100011001100011001100011001100011001100011001100011001100011001100011001100011001100011001100011001100011001100011001100011001100011001100011001100011001100011001100011001100011001100011001100011001100011001100011001100011001100011001100011001100011001100011001100011001100011001100011001100011001100011001100011001100011001100011001100011001100011001100011001100011001100011001100011001100011001100011001100011001100011001100011001100011001100011001100011001100011001100011001100011001100011001100011001100011001100011001100011001100011001100011001100011001100011001100011001100011001100011001100011001100011001100011001100011001100011001100011001100011001100011001100011001100011001100011001100011001100011001100011001100011001100011001100011001100011001100011001100011001100011001100011001100011001100011001100011001100011001100011001100011001100011001100011001100011001100011001100011001100011001100011001100011001100011001100011001100011001100011001100011001100011001100011001100011001100011001100011001100011001100011001100011001100011001100011001100011001100011001100011001100011001100011001100011001100011001100011001100011001100011001100011001100011001100011001100011001100011001100011001100011001100011001100011001100011001100011001100011001100011001100011001100011001100011001100011001100011001100011001100011001100011001100011001100011001100110110\n",
      "\n",
      "Texto original: 12345678678678678678678678678678678678678678678678678678678678678678678678678678678678678678678678678678678678678678678678678678678678678678678678678678678678678678678678678678678678678678678678678678678678678678678678678678678678678678678678678678678678678678678678678678678678678678678678678678678678678678678678678678678678678678678678678678678678678678678678678678678678678678678678678678678678678678678678678678678678678678678678678678678678678678678678678678678678678678678678678678678678678678678678678678678678678678678678678678678678678678678678678678678678678678678678678678678678678678678678678678678678678678678678678678678678678678678678678678678678678678678678678678678678678678678678678678678678678678678678678678678678678678678678678678678678678678678678678678678678678678678678678678678678678678678678678678678678678678678678678678678678678678678678678678678678678678678678678678678678678678678678678678678678678678678678678678678678678678678678678678678678678678678678678678678678678678678678678678678678678678678678678678678678678678678678678678678678678678678678678678678678678678678678678678678678678678678678678678678678678678678678678678678678678678678678678678678678678678678678678678678678678678678678678678678678678678678678678678678678678678678678678678678678678678678678678678678678678678678678678678678678678678678678678678678678678678678678678678678678678678678678678678678678678678678678678678678678678678678678678678678678678678678678678678678678678678678678678678678678678678678678678678678678678678678678678678\n",
      "Texto descomprimido: 12345678678678678678678678678678678678678678678678678678678678678678678678678678678678678678678678678678678678678678678678678678678678678678678678678678678678678678678678678678678678678678678678678678678678678678678678678678678678678678678678678678678678678678678678678678678678678678678678678678678678678678678678678678678678678678678678678678678678678678678678678678678678678678678678678678678678678678678678678678678678678678678678678678678678678678678678678678678678678678678678678678678678678678678678678678678678678678678678678678678678678678678678678678678678678678678678678678678678678678678678678678678678678678678678678678678678678678678678678678678678678678678678678678678678678678678678678678678678678678678678678678678678678678678678678678678678678678678678678678678678678678678678678678678678678678678678678678678678678678678678678678678678678678678678678678678678678678678678678678678678678678678678678678678678678678678678678678678678678678678678678678678678678678678678678678678678678678678678678678678678678678678678678678678678678678678678678678678678678678678678678678678678678678678678678678678678678678678678678678678678678678678678678678678678678678678678678678678678678678678678678678678678678678678678678678678678678678678678678678678678678678678678678678678678678678678678678678678678678678678678678678678678678678678678678678678678678678678678678678678678678678678678678678678678678678678678678678678678678678678678678678678678678678678678678678678678678678678678678678678678678678678678678678678678678678678678678678\n"
     ]
    }
   ],
   "source": [
    "texto_prueba = '12345678'+512*\"678\"\n",
    "ventana_tamano = 8\n",
    "\n",
    "# Comprimir el texto\n",
    "binario_comprimido = lz77_comprimir(texto_prueba, ventana_tamano)\n",
    "print(\"Binario comprimido:\", binario_comprimido)\n",
    "\n",
    "# Descomprimir el texto\n",
    "texto_descomprimido = lz77_descomprimir(binario_comprimido, ventana_tamano)\n",
    "print(\"\\nTexto original:\", texto_prueba)\n",
    "print(\"Texto descomprimido:\", texto_descomprimido)"
   ]
  },
  {
   "cell_type": "code",
   "execution_count": 425,
   "metadata": {},
   "outputs": [
    {
     "data": {
      "text/plain": [
       "2373"
      ]
     },
     "execution_count": 425,
     "metadata": {},
     "output_type": "execute_result"
    }
   ],
   "source": [
    "len(binario_comprimido)"
   ]
  },
  {
   "cell_type": "code",
   "execution_count": 426,
   "metadata": {},
   "outputs": [
    {
     "data": {
      "text/plain": [
       "12352"
      ]
     },
     "execution_count": 426,
     "metadata": {},
     "output_type": "execute_result"
    }
   ],
   "source": [
    "len(texto_prueba)*8"
   ]
  },
  {
   "cell_type": "code",
   "execution_count": 427,
   "metadata": {},
   "outputs": [
    {
     "name": "stdout",
     "output_type": "stream",
     "text": [
      "Binario comprimido: 0011011000110111001110000011011000110111001101100011011100111000001011000001100110001100110001000110\n",
      "\n",
      "Texto original: 67867678678678678678678678678\n",
      "Texto descomprimido: 67867678678678678678678678678\n"
     ]
    }
   ],
   "source": [
    "texto_prueba = '67867678678678678678678678678'\n",
    "ventana_tamano = 8\n",
    "\n",
    "# Comprimir el texto\n",
    "binario_comprimido = lz77_comprimir(texto_prueba, ventana_tamano)\n",
    "print(\"Binario comprimido:\", binario_comprimido)\n",
    "\n",
    "# Descomprimir el texto\n",
    "texto_descomprimido = lz77_descomprimir(binario_comprimido, ventana_tamano)\n",
    "print(\"\\nTexto original:\", texto_prueba)\n",
    "print(\"Texto descomprimido:\", texto_descomprimido)"
   ]
  },
  {
   "cell_type": "code",
   "execution_count": 428,
   "metadata": {},
   "outputs": [
    {
     "data": {
      "text/plain": [
       "100"
      ]
     },
     "execution_count": 428,
     "metadata": {},
     "output_type": "execute_result"
    }
   ],
   "source": [
    "len(binario_comprimido)"
   ]
  },
  {
   "cell_type": "code",
   "execution_count": 429,
   "metadata": {},
   "outputs": [
    {
     "data": {
      "text/plain": [
       "232"
      ]
     },
     "execution_count": 429,
     "metadata": {},
     "output_type": "execute_result"
    }
   ],
   "source": [
    "len(texto_prueba)*8"
   ]
  },
  {
   "cell_type": "code",
   "execution_count": 430,
   "metadata": {},
   "outputs": [
    {
     "name": "stdout",
     "output_type": "stream",
     "text": [
      "Binario comprimido: 011000010110001001100011011001000110010101111000011000010110001001100011011001000111100001100001011000100110001101100100011001010110011001111000011110000111100101100001011000100110001101100100011001010011000100110010001110000011100100110011001100110011100000110010101100110100\n",
      "\n",
      "Texto original: abcdexabcdxabcdefxxyabcde1289338abcdef4\n",
      "Texto descomprimido: abcdexabcdxabcdefxxyabcde1289338abcdef4\n"
     ]
    }
   ],
   "source": [
    "texto_prueba = 'abcdexabcdxabcdefxxyabcde1289338abcdef4'\n",
    "ventana_tamano = 32\n",
    "\n",
    "# Comprimir el texto\n",
    "binario_comprimido = lz77_comprimir(texto_prueba, ventana_tamano)\n",
    "print(\"Binario comprimido:\", binario_comprimido)\n",
    "\n",
    "# Descomprimir el texto\n",
    "texto_descomprimido = lz77_descomprimir(binario_comprimido, ventana_tamano)\n",
    "print(\"\\nTexto original:\", texto_prueba)\n",
    "print(\"Texto descomprimido:\", texto_descomprimido)\n"
   ]
  },
  {
   "cell_type": "code",
   "execution_count": 431,
   "metadata": {},
   "outputs": [
    {
     "data": {
      "text/plain": [
       "276"
      ]
     },
     "execution_count": 431,
     "metadata": {},
     "output_type": "execute_result"
    }
   ],
   "source": [
    "len(binario_comprimido)"
   ]
  },
  {
   "cell_type": "code",
   "execution_count": 432,
   "metadata": {},
   "outputs": [
    {
     "data": {
      "text/plain": [
       "312"
      ]
     },
     "execution_count": 432,
     "metadata": {},
     "output_type": "execute_result"
    }
   ],
   "source": [
    "len(texto_prueba)*8"
   ]
  },
  {
   "cell_type": "code",
   "execution_count": 433,
   "metadata": {},
   "outputs": [
    {
     "name": "stdout",
     "output_type": "stream",
     "text": [
      "Tabla de frecuencias guardada en Tablas_Frecuencias.txt\n",
      "Texto generado guardado en Fuente_Markov.txt\n",
      "Binario comprimido: 011100100110010101110011011100000110111101101110011001000110100111110011001000000110000101101110011101000110010101110011001000000111000101110101011001010010000001111001011011110010000001100100011001010111001101101000011001010110001101101000011011110010000001100110010110110001001001010110001110110111100100011101101110100111101001010001100101100001100100000101100001101101110101100111101110101010001011101101001010001001101110001101110101010011001010010110010010000101110100101101111101110010101101101101100101010100000010011010101100101101110011011010100101101001101111010111100001100100000101100011101100001101110101101110011010100000101100100010011111010001111010100000101111001101101111100100000101101000101100001101100010101101100101100001101110010010010010101110011010010010101110011101101111101101110101110010101101001111110011001000111001011101011011011101001000001011011011011011111011001000100111011011010011011011101011000111011011111011011011011100001011100101011001011011011101011100111011010011011000101011011000100101111011000011001000001011101000100101100100001011011011111011101001011100100100010100100110111011101001011001011011011001011010011011001110100110111011000111011010010100101111011100110100111001011001001011010011011001101011101011011011100100001011111100110110011001011001111111110101011011101001000001011011000100100101011100001011011001011101011011001111011011111001000001011011010100110111011000011011000101011100101011000011011000111111010010100001110100110111011101011001000001011000111011101011011001011011011001011011000100101101011000011011100001011100101011011111011101101011001011011000111011010001111100111001000000100011111001000001011011011011011111011011011011001011011011101011101000100101011011110010010000110110110110010111010110110011110110000110111001010010000010110011010110000110111011010110111110111001010110000110110001010110110010110010101101010110110001110111010110110000110110111010110010001001111010110110010110000110111001110010000010110000100100000101101100101101110011101110100101110101101110110101101001101100101101110010101101111101101110100100000101100010010000111010000101101100001011000110101110010101110100001000111101011001111011000011011100101011100101111100111011100111011001010100100101001000001011011000110011111011101101011001011011011001011011001011101011011001000110110001011000111011011111011100111011101001011010010100011000110100111011001000100111000100100111011000111011010011011001101011001011011100101001000001011110010010000110110111000010110010110110110010110111110010000010110010110110111000110001000010011101101110011101100011010001100101100100101101001111110011010010111101101111010100000010010110101110100101110010101100101010011100101101100100100000101101000101101001101110010101110011101110101101110100010011111101100011101101111101110011101110100101100001101100100010001000101111001100100000101101100101100001101110011010010110010011010010001101011001000001000101101011100100010000100010111010110110000110110111001101110110110110010110110010110010110110011110110000110110110101001010010010000010110000110110110000100010011101110010101110100010010011101100100111101101101100001100100000010010100101100100011011101101110011101100101100100000101110100101100101101101110101100100101101001111110011010011110100100000101101101101101001101110011100100000101110000101101001101100101010000101101110101101101110010011000101101001101100111101101110010011110101111001010010110101101100101100111010000111101101101111100001010011001101100101101101100010001100101101101101101111101110010101101111101110011010010110101100101101110011101110000111101101101110010101101001101110100101110101100100000101100011101101111101101110100100000101110001101110101101100101010011001101100100011011001100100000101110011101101001101100101101101101101110000101110010011001110\n",
      "\n",
      "Texto original: respondió antes que yo deshecho yo le contesté la angustia que te atormenta es quizá causa de que yo hablara se sonrió de un modo incomprensible a toda otra inteligencia se difundió según le plugo me abracé a su cuello aprovechó el momento y el lugar favorable y cuando las alas estuvieron bien abiertas agarróse a las velludas costillas de lucifer y de pelo en pelo descendió por entre el hirsuto costado y las heladas costras cuando llegamos al cuarto día gaddo se tendió a mis pies un signo y algo más el amoroso espíritu con que adoro siempre a\n",
      "Texto descomprimido: respondió antes que yo deshecho yo le contesté la angustia que te atormenta es quizá causa de que yo hablara se sonrió de un modo incomprensible a toda otra inteligencia se difundió según le plugo me abracé a su cuello aprovechó el momento y el lugar favorable y cuando las alas estuvieron bien abiertas agarróse a las velludas costillas de lucifer y de pelo en pelo descendió por entre el hirsuto costado y las heladas costras cuando llegamos al cuarto día gaddo se tendió a mis pies un signo y algo más el amoroso espíritu con que adoro siempre a\n",
      "\n",
      "Bits originales: 4384\n",
      "Bits comprimidos: 3831\n",
      "Índice de compresión: 87.39%\n"
     ]
    }
   ],
   "source": [
    "# test, puedo usar if __name__ == \"__main__\": para que el script se ejecute directamente\n",
    "if __name__ == \"__main__\":\n",
    "\n",
    "    # Generar la tabla de frecuencias condicionales\n",
    "    archivo_texto = \"La_Divina_Comedia.txt\"\n",
    "    N = 3           # Número de palabras para el análisis\n",
    "\n",
    "    tabla_frecuencias = generar_tabla_frecuencias_condicionales(archivo_texto, N)\n",
    "    guardar_tabla_frecuencias_en_archivo(tabla_frecuencias)\n",
    "\n",
    "    # Generar texto aleatorio basado en el modelo de Markov\n",
    "    longitud_texto = 100\n",
    "    texto_generado = generar_texto_markov(tabla_frecuencias, longitud_texto, N)\n",
    "    guardar_texto_en_archivo(texto_generado)\n",
    "\n",
    "    # Comprimir y descomprimir usando LZ77\n",
    "    ventana_tamano = 32  # Tamaño de la ventana\n",
    "\n",
    "    # Comprimir el texto generado\n",
    "    binario_comprimido = lz77_comprimir(texto_generado, ventana_tamano)\n",
    "    print(\"Binario comprimido:\", binario_comprimido)\n",
    "\n",
    "    # Descomprimir el texto\n",
    "    texto_descomprimido = lz77_descomprimir(binario_comprimido, ventana_tamano)\n",
    "    print(\"\\nTexto original:\", texto_generado)\n",
    "    print(\"Texto descomprimido:\", texto_descomprimido)\n",
    "\n",
    "    # Prueba con assert para verificar que los textos son iguales\n",
    "    assert texto_descomprimido == texto_generado, \"El texto descomprimido no coincide con el original.\"\n",
    "\n",
    "    # Calcular el índice de compresión\n",
    "    bits_originales = len(utf8_a_binary(texto_generado))\n",
    "    bits_comprimidos = len(binario_comprimido)\n",
    "    indice_compresion = bits_comprimidos / bits_originales * 100        # porcentual\n",
    "\n",
    "    print(f\"\\nBits originales: {bits_originales}\")\n",
    "    print(f\"Bits comprimidos: {bits_comprimidos}\")\n",
    "    print(f\"Índice de compresión: {indice_compresion:.2f}%\")"
   ]
  }
 ],
 "metadata": {
  "kernelspec": {
   "display_name": "Python 3",
   "language": "python",
   "name": "python3"
  },
  "language_info": {
   "codemirror_mode": {
    "name": "ipython",
    "version": 3
   },
   "file_extension": ".py",
   "mimetype": "text/x-python",
   "name": "python",
   "nbconvert_exporter": "python",
   "pygments_lexer": "ipython3",
   "version": "3.11.9"
  }
 },
 "nbformat": 4,
 "nbformat_minor": 2
}
