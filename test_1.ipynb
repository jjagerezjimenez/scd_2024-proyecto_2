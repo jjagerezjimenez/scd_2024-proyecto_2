{
 "cells": [
  {
   "cell_type": "code",
   "execution_count": 18,
   "metadata": {},
   "outputs": [],
   "source": [
    "import random\n",
    "import heapq\n",
    "import math"
   ]
  },
  {
   "cell_type": "code",
   "execution_count": 19,
   "metadata": {},
   "outputs": [],
   "source": [
    "def lz77_comprimir(texto, ventana=8):\n",
    "    \n",
    "    i = 0\n",
    "    salida = []\n",
    "    \n",
    "    while i < len(texto):\n",
    "        longitud = 0\n",
    "        offset = 0\n",
    "        \n",
    "        for j in range(max(0, i - ventana), i):             #controlar\n",
    "            \n",
    "            longitud = 0\n",
    "            while (longitud < ventana) and (i + longitud < len(texto)) and texto[j + longitud] == texto[i + longitud]:\n",
    "                \n",
    "                longitud += 1\n",
    "            \n",
    "            \n",
    "            if longitud > longitud:\n",
    "                longitud = longitud\n",
    "                offset = i - j\n",
    "                \n",
    "                \n",
    "                \n",
    "        if longitud > 0:\n",
    "            salida.append((offset, longitud, texto[i + longitud]))\n",
    "            i += longitud + 1\n",
    "        else:\n",
    "            salida.append((0, 0, texto[i]))\n",
    "            i += 1\n",
    "    \n",
    "    return salida\n"
   ]
  },
  {
   "cell_type": "code",
   "execution_count": 21,
   "metadata": {},
   "outputs": [
    {
     "name": "stdout",
     "output_type": "stream",
     "text": [
      "[(0, 0, 'a'), (0, 0, 'b'), (0, 0, 'f'), (0, 0, 'a'), (0, 0, 'b'), (0, 0, 'd'), (0, 0, 'a'), (0, 0, 'b'), (0, 0, 'c'), (0, 1, 'a'), (0, 0, 'b'), (0, 0, 'd'), (0, 1, 'f'), (0, 0, 'a'), (0, 0, 'b'), (0, 0, 'd'), (0, 0, 'c'), (0, 0, 'b'), (0, 0, 'f'), (0, 0, 'a'), (0, 0, 'b')]\n"
     ]
    }
   ],
   "source": [
    "texto = \"abfabdabccabddfabdcbfab\"\n",
    "comprimido = lz77_comprimir(texto)\n",
    "print(comprimido)\n",
    "\n",
    "#'a''b''f''a''b''d'a''b'1'c'1'011(longitud=3)110(offset=6)1'd'1'f'011(longitud=3)(offset=4)1'c'1'b'011(longitud=3)(offset=5)"
   ]
  }
 ],
 "metadata": {
  "kernelspec": {
   "display_name": "base",
   "language": "python",
   "name": "python3"
  },
  "language_info": {
   "codemirror_mode": {
    "name": "ipython",
    "version": 3
   },
   "file_extension": ".py",
   "mimetype": "text/x-python",
   "name": "python",
   "nbconvert_exporter": "python",
   "pygments_lexer": "ipython3",
   "version": "3.11.9"
  },
  "orig_nbformat": 4
 },
 "nbformat": 4,
 "nbformat_minor": 2
}
